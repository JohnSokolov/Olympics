{
 "cells": [
  {
   "cell_type": "markdown",
   "metadata": {},
   "source": [
    "# 1. Описание данных"
   ]
  },
  {
   "cell_type": "markdown",
   "metadata": {},
   "source": [
    "Данные представляют собой информацию о физических данных спортсменов и их результатах в Олимпийских играх. Рассматриваются Олимпийские игры за 120 лет, начиная с **Афин** (1896), заканчивая последней олипиадой в **Рио** (2016).\n",
    "\n",
    "Данные были скачаны с kaggle: https://www.kaggle.com/heesoo37/120-years-of-olympic-history-athletes-and-results\n"
   ]
  },
  {
   "cell_type": "code",
   "execution_count": 1,
   "metadata": {},
   "outputs": [],
   "source": [
    "import numpy as np \n",
    "import pandas as pd \n",
    "import matplotlib.pyplot as plt\n",
    "import seaborn as sns\n",
    "import squarify \n",
    "%matplotlib inline\n",
    "\n",
    "\n",
    "import os"
   ]
  },
  {
   "cell_type": "code",
   "execution_count": 2,
   "metadata": {},
   "outputs": [
    {
     "name": "stdout",
     "output_type": "stream",
     "text": [
      "<class 'pandas.core.frame.DataFrame'>\n",
      "RangeIndex: 271116 entries, 0 to 271115\n",
      "Data columns (total 15 columns):\n",
      "ID        271116 non-null int64\n",
      "Name      271116 non-null object\n",
      "Sex       271116 non-null object\n",
      "Age       261642 non-null float64\n",
      "Height    210945 non-null float64\n",
      "Weight    208241 non-null float64\n",
      "Team      271116 non-null object\n",
      "NOC       271116 non-null object\n",
      "Games     271116 non-null object\n",
      "Year      271116 non-null int64\n",
      "Season    271116 non-null object\n",
      "City      271116 non-null object\n",
      "Sport     271116 non-null object\n",
      "Event     271116 non-null object\n",
      "Medal     39783 non-null object\n",
      "dtypes: float64(3), int64(2), object(10)\n",
      "memory usage: 20.7+ MB\n"
     ]
    }
   ],
   "source": [
    "Events = pd.read_csv(\"D:/Masters/Python/JN/Olympics/athlete_events.csv\")\n",
    "Events.info()"
   ]
  },
  {
   "cell_type": "code",
   "execution_count": 3,
   "metadata": {},
   "outputs": [
    {
     "data": {
      "text/html": [
       "<div>\n",
       "<style scoped>\n",
       "    .dataframe tbody tr th:only-of-type {\n",
       "        vertical-align: middle;\n",
       "    }\n",
       "\n",
       "    .dataframe tbody tr th {\n",
       "        vertical-align: top;\n",
       "    }\n",
       "\n",
       "    .dataframe thead th {\n",
       "        text-align: right;\n",
       "    }\n",
       "</style>\n",
       "<table border=\"1\" class=\"dataframe\">\n",
       "  <thead>\n",
       "    <tr style=\"text-align: right;\">\n",
       "      <th></th>\n",
       "      <th>ID</th>\n",
       "      <th>Name</th>\n",
       "      <th>Sex</th>\n",
       "      <th>Age</th>\n",
       "      <th>Height</th>\n",
       "      <th>Weight</th>\n",
       "      <th>Team</th>\n",
       "      <th>NOC</th>\n",
       "      <th>Games</th>\n",
       "      <th>Year</th>\n",
       "      <th>Season</th>\n",
       "      <th>City</th>\n",
       "      <th>Sport</th>\n",
       "      <th>Event</th>\n",
       "      <th>Medal</th>\n",
       "    </tr>\n",
       "  </thead>\n",
       "  <tbody>\n",
       "    <tr>\n",
       "      <th>0</th>\n",
       "      <td>1</td>\n",
       "      <td>A Dijiang</td>\n",
       "      <td>M</td>\n",
       "      <td>24.0</td>\n",
       "      <td>180.0</td>\n",
       "      <td>80.0</td>\n",
       "      <td>China</td>\n",
       "      <td>CHN</td>\n",
       "      <td>1992 Summer</td>\n",
       "      <td>1992</td>\n",
       "      <td>Summer</td>\n",
       "      <td>Barcelona</td>\n",
       "      <td>Basketball</td>\n",
       "      <td>Basketball Men's Basketball</td>\n",
       "      <td>NaN</td>\n",
       "    </tr>\n",
       "    <tr>\n",
       "      <th>1</th>\n",
       "      <td>2</td>\n",
       "      <td>A Lamusi</td>\n",
       "      <td>M</td>\n",
       "      <td>23.0</td>\n",
       "      <td>170.0</td>\n",
       "      <td>60.0</td>\n",
       "      <td>China</td>\n",
       "      <td>CHN</td>\n",
       "      <td>2012 Summer</td>\n",
       "      <td>2012</td>\n",
       "      <td>Summer</td>\n",
       "      <td>London</td>\n",
       "      <td>Judo</td>\n",
       "      <td>Judo Men's Extra-Lightweight</td>\n",
       "      <td>NaN</td>\n",
       "    </tr>\n",
       "    <tr>\n",
       "      <th>2</th>\n",
       "      <td>3</td>\n",
       "      <td>Gunnar Nielsen Aaby</td>\n",
       "      <td>M</td>\n",
       "      <td>24.0</td>\n",
       "      <td>NaN</td>\n",
       "      <td>NaN</td>\n",
       "      <td>Denmark</td>\n",
       "      <td>DEN</td>\n",
       "      <td>1920 Summer</td>\n",
       "      <td>1920</td>\n",
       "      <td>Summer</td>\n",
       "      <td>Antwerpen</td>\n",
       "      <td>Football</td>\n",
       "      <td>Football Men's Football</td>\n",
       "      <td>NaN</td>\n",
       "    </tr>\n",
       "  </tbody>\n",
       "</table>\n",
       "</div>"
      ],
      "text/plain": [
       "   ID                 Name Sex   Age  Height  Weight     Team  NOC  \\\n",
       "0   1            A Dijiang   M  24.0   180.0    80.0    China  CHN   \n",
       "1   2             A Lamusi   M  23.0   170.0    60.0    China  CHN   \n",
       "2   3  Gunnar Nielsen Aaby   M  24.0     NaN     NaN  Denmark  DEN   \n",
       "\n",
       "         Games  Year  Season       City       Sport  \\\n",
       "0  1992 Summer  1992  Summer  Barcelona  Basketball   \n",
       "1  2012 Summer  2012  Summer     London        Judo   \n",
       "2  1920 Summer  1920  Summer  Antwerpen    Football   \n",
       "\n",
       "                          Event Medal  \n",
       "0   Basketball Men's Basketball   NaN  \n",
       "1  Judo Men's Extra-Lightweight   NaN  \n",
       "2       Football Men's Football   NaN  "
      ]
     },
     "execution_count": 3,
     "metadata": {},
     "output_type": "execute_result"
    }
   ],
   "source": [
    "Events.head(n=3)"
   ]
  },
  {
   "cell_type": "markdown",
   "metadata": {},
   "source": [
    "Мы видим, что всего в данных **Events** 271 116 строк и 15 столбцов, но значений параметров Age,Height,Weight и Medal недостает. Относительно биометрических данных, это может быть связано просто нехваткой/сбоем в сборе данных. А отношении Medal это можно обхяснить тем, что далеко не каждый атлет смог завоевать медаль. Поэтому из 271 тысячи только 39 тысяч имеют информацию о медалях."
   ]
  },
  {
   "cell_type": "code",
   "execution_count": 4,
   "metadata": {},
   "outputs": [
    {
     "name": "stdout",
     "output_type": "stream",
     "text": [
      "<class 'pandas.core.frame.DataFrame'>\n",
      "RangeIndex: 230 entries, 0 to 229\n",
      "Data columns (total 3 columns):\n",
      "NOC       230 non-null object\n",
      "region    227 non-null object\n",
      "notes     21 non-null object\n",
      "dtypes: object(3)\n",
      "memory usage: 2.7+ KB\n"
     ]
    }
   ],
   "source": [
    "NOC = pd.read_csv(\"D:/Masters/Python/JN/Olympics/noc_regions.csv\")\n",
    "NOC.info()"
   ]
  },
  {
   "cell_type": "code",
   "execution_count": 5,
   "metadata": {},
   "outputs": [
    {
     "data": {
      "text/html": [
       "<div>\n",
       "<style scoped>\n",
       "    .dataframe tbody tr th:only-of-type {\n",
       "        vertical-align: middle;\n",
       "    }\n",
       "\n",
       "    .dataframe tbody tr th {\n",
       "        vertical-align: top;\n",
       "    }\n",
       "\n",
       "    .dataframe thead th {\n",
       "        text-align: right;\n",
       "    }\n",
       "</style>\n",
       "<table border=\"1\" class=\"dataframe\">\n",
       "  <thead>\n",
       "    <tr style=\"text-align: right;\">\n",
       "      <th></th>\n",
       "      <th>NOC</th>\n",
       "      <th>region</th>\n",
       "      <th>notes</th>\n",
       "    </tr>\n",
       "  </thead>\n",
       "  <tbody>\n",
       "    <tr>\n",
       "      <th>0</th>\n",
       "      <td>AFG</td>\n",
       "      <td>Afghanistan</td>\n",
       "      <td>NaN</td>\n",
       "    </tr>\n",
       "    <tr>\n",
       "      <th>1</th>\n",
       "      <td>AHO</td>\n",
       "      <td>Curacao</td>\n",
       "      <td>Netherlands Antilles</td>\n",
       "    </tr>\n",
       "    <tr>\n",
       "      <th>2</th>\n",
       "      <td>ALB</td>\n",
       "      <td>Albania</td>\n",
       "      <td>NaN</td>\n",
       "    </tr>\n",
       "    <tr>\n",
       "      <th>3</th>\n",
       "      <td>ALG</td>\n",
       "      <td>Algeria</td>\n",
       "      <td>NaN</td>\n",
       "    </tr>\n",
       "    <tr>\n",
       "      <th>4</th>\n",
       "      <td>AND</td>\n",
       "      <td>Andorra</td>\n",
       "      <td>NaN</td>\n",
       "    </tr>\n",
       "  </tbody>\n",
       "</table>\n",
       "</div>"
      ],
      "text/plain": [
       "   NOC       region                 notes\n",
       "0  AFG  Afghanistan                   NaN\n",
       "1  AHO      Curacao  Netherlands Antilles\n",
       "2  ALB      Albania                   NaN\n",
       "3  ALG      Algeria                   NaN\n",
       "4  AND      Andorra                   NaN"
      ]
     },
     "execution_count": 5,
     "metadata": {},
     "output_type": "execute_result"
    }
   ],
   "source": [
    "NOC.head()"
   ]
  },
  {
   "cell_type": "markdown",
   "metadata": {},
   "source": [
    "NOC - это просто инфа о стране участника. NOC - индекс страны, а сама страна указана в стобце region. Столбец notes нам не понадобится.\n",
    "Объединим Events и NOC:"
   ]
  },
  {
   "cell_type": "code",
   "execution_count": 6,
   "metadata": {},
   "outputs": [
    {
     "data": {
      "text/html": [
       "<div>\n",
       "<style scoped>\n",
       "    .dataframe tbody tr th:only-of-type {\n",
       "        vertical-align: middle;\n",
       "    }\n",
       "\n",
       "    .dataframe tbody tr th {\n",
       "        vertical-align: top;\n",
       "    }\n",
       "\n",
       "    .dataframe thead th {\n",
       "        text-align: right;\n",
       "    }\n",
       "</style>\n",
       "<table border=\"1\" class=\"dataframe\">\n",
       "  <thead>\n",
       "    <tr style=\"text-align: right;\">\n",
       "      <th></th>\n",
       "      <th>ID</th>\n",
       "      <th>Name</th>\n",
       "      <th>Sex</th>\n",
       "      <th>Age</th>\n",
       "      <th>Height</th>\n",
       "      <th>Weight</th>\n",
       "      <th>Team</th>\n",
       "      <th>NOC</th>\n",
       "      <th>Games</th>\n",
       "      <th>Year</th>\n",
       "      <th>Season</th>\n",
       "      <th>City</th>\n",
       "      <th>Sport</th>\n",
       "      <th>Event</th>\n",
       "      <th>Medal</th>\n",
       "      <th>region</th>\n",
       "      <th>notes</th>\n",
       "    </tr>\n",
       "  </thead>\n",
       "  <tbody>\n",
       "    <tr>\n",
       "      <th>0</th>\n",
       "      <td>1</td>\n",
       "      <td>A Dijiang</td>\n",
       "      <td>M</td>\n",
       "      <td>24.0</td>\n",
       "      <td>180.0</td>\n",
       "      <td>80.0</td>\n",
       "      <td>China</td>\n",
       "      <td>CHN</td>\n",
       "      <td>1992 Summer</td>\n",
       "      <td>1992</td>\n",
       "      <td>Summer</td>\n",
       "      <td>Barcelona</td>\n",
       "      <td>Basketball</td>\n",
       "      <td>Basketball Men's Basketball</td>\n",
       "      <td>NaN</td>\n",
       "      <td>China</td>\n",
       "      <td>NaN</td>\n",
       "    </tr>\n",
       "    <tr>\n",
       "      <th>1</th>\n",
       "      <td>2</td>\n",
       "      <td>A Lamusi</td>\n",
       "      <td>M</td>\n",
       "      <td>23.0</td>\n",
       "      <td>170.0</td>\n",
       "      <td>60.0</td>\n",
       "      <td>China</td>\n",
       "      <td>CHN</td>\n",
       "      <td>2012 Summer</td>\n",
       "      <td>2012</td>\n",
       "      <td>Summer</td>\n",
       "      <td>London</td>\n",
       "      <td>Judo</td>\n",
       "      <td>Judo Men's Extra-Lightweight</td>\n",
       "      <td>NaN</td>\n",
       "      <td>China</td>\n",
       "      <td>NaN</td>\n",
       "    </tr>\n",
       "    <tr>\n",
       "      <th>2</th>\n",
       "      <td>3</td>\n",
       "      <td>Gunnar Nielsen Aaby</td>\n",
       "      <td>M</td>\n",
       "      <td>24.0</td>\n",
       "      <td>NaN</td>\n",
       "      <td>NaN</td>\n",
       "      <td>Denmark</td>\n",
       "      <td>DEN</td>\n",
       "      <td>1920 Summer</td>\n",
       "      <td>1920</td>\n",
       "      <td>Summer</td>\n",
       "      <td>Antwerpen</td>\n",
       "      <td>Football</td>\n",
       "      <td>Football Men's Football</td>\n",
       "      <td>NaN</td>\n",
       "      <td>Denmark</td>\n",
       "      <td>NaN</td>\n",
       "    </tr>\n",
       "  </tbody>\n",
       "</table>\n",
       "</div>"
      ],
      "text/plain": [
       "   ID                 Name Sex   Age  Height  Weight     Team  NOC  \\\n",
       "0   1            A Dijiang   M  24.0   180.0    80.0    China  CHN   \n",
       "1   2             A Lamusi   M  23.0   170.0    60.0    China  CHN   \n",
       "2   3  Gunnar Nielsen Aaby   M  24.0     NaN     NaN  Denmark  DEN   \n",
       "\n",
       "         Games  Year  Season       City       Sport  \\\n",
       "0  1992 Summer  1992  Summer  Barcelona  Basketball   \n",
       "1  2012 Summer  2012  Summer     London        Judo   \n",
       "2  1920 Summer  1920  Summer  Antwerpen    Football   \n",
       "\n",
       "                          Event Medal   region notes  \n",
       "0   Basketball Men's Basketball   NaN    China   NaN  \n",
       "1  Judo Men's Extra-Lightweight   NaN    China   NaN  \n",
       "2       Football Men's Football   NaN  Denmark   NaN  "
      ]
     },
     "execution_count": 6,
     "metadata": {},
     "output_type": "execute_result"
    }
   ],
   "source": [
    "Data=Events.merge(NOC,on='NOC',how='left')\n",
    "Data.head(n=3)"
   ]
  },
  {
   "cell_type": "markdown",
   "metadata": {},
   "source": [
    "# 2. Exploratory Analysis"
   ]
  },
  {
   "cell_type": "markdown",
   "metadata": {},
   "source": [
    "### 2.1 Сколько было летних и зимних игр?"
   ]
  },
  {
   "cell_type": "code",
   "execution_count": 7,
   "metadata": {},
   "outputs": [
    {
     "data": {
      "text/html": [
       "<div>\n",
       "<style scoped>\n",
       "    .dataframe tbody tr th:only-of-type {\n",
       "        vertical-align: middle;\n",
       "    }\n",
       "\n",
       "    .dataframe tbody tr th {\n",
       "        vertical-align: top;\n",
       "    }\n",
       "\n",
       "    .dataframe thead th {\n",
       "        text-align: right;\n",
       "    }\n",
       "</style>\n",
       "<table border=\"1\" class=\"dataframe\">\n",
       "  <thead>\n",
       "    <tr style=\"text-align: right;\">\n",
       "      <th></th>\n",
       "      <th>index</th>\n",
       "      <th>Year</th>\n",
       "      <th>Season</th>\n",
       "      <th>City</th>\n",
       "    </tr>\n",
       "  </thead>\n",
       "  <tbody>\n",
       "    <tr>\n",
       "      <th>0</th>\n",
       "      <td>0</td>\n",
       "      <td>1896</td>\n",
       "      <td>Summer</td>\n",
       "      <td>Athina</td>\n",
       "    </tr>\n",
       "    <tr>\n",
       "      <th>1</th>\n",
       "      <td>1</td>\n",
       "      <td>1900</td>\n",
       "      <td>Summer</td>\n",
       "      <td>Paris</td>\n",
       "    </tr>\n",
       "    <tr>\n",
       "      <th>2</th>\n",
       "      <td>2</td>\n",
       "      <td>1904</td>\n",
       "      <td>Summer</td>\n",
       "      <td>St. Louis</td>\n",
       "    </tr>\n",
       "    <tr>\n",
       "      <th>3</th>\n",
       "      <td>3</td>\n",
       "      <td>1906</td>\n",
       "      <td>Summer</td>\n",
       "      <td>Athina</td>\n",
       "    </tr>\n",
       "    <tr>\n",
       "      <th>4</th>\n",
       "      <td>4</td>\n",
       "      <td>1908</td>\n",
       "      <td>Summer</td>\n",
       "      <td>London</td>\n",
       "    </tr>\n",
       "    <tr>\n",
       "      <th>5</th>\n",
       "      <td>5</td>\n",
       "      <td>1912</td>\n",
       "      <td>Summer</td>\n",
       "      <td>Stockholm</td>\n",
       "    </tr>\n",
       "    <tr>\n",
       "      <th>6</th>\n",
       "      <td>6</td>\n",
       "      <td>1920</td>\n",
       "      <td>Summer</td>\n",
       "      <td>Antwerpen</td>\n",
       "    </tr>\n",
       "    <tr>\n",
       "      <th>7</th>\n",
       "      <td>7</td>\n",
       "      <td>1924</td>\n",
       "      <td>Summer</td>\n",
       "      <td>Paris</td>\n",
       "    </tr>\n",
       "    <tr>\n",
       "      <th>8</th>\n",
       "      <td>9</td>\n",
       "      <td>1928</td>\n",
       "      <td>Summer</td>\n",
       "      <td>Amsterdam</td>\n",
       "    </tr>\n",
       "    <tr>\n",
       "      <th>9</th>\n",
       "      <td>11</td>\n",
       "      <td>1932</td>\n",
       "      <td>Summer</td>\n",
       "      <td>Los Angeles</td>\n",
       "    </tr>\n",
       "    <tr>\n",
       "      <th>10</th>\n",
       "      <td>13</td>\n",
       "      <td>1936</td>\n",
       "      <td>Summer</td>\n",
       "      <td>Berlin</td>\n",
       "    </tr>\n",
       "    <tr>\n",
       "      <th>11</th>\n",
       "      <td>15</td>\n",
       "      <td>1948</td>\n",
       "      <td>Summer</td>\n",
       "      <td>London</td>\n",
       "    </tr>\n",
       "    <tr>\n",
       "      <th>12</th>\n",
       "      <td>17</td>\n",
       "      <td>1952</td>\n",
       "      <td>Summer</td>\n",
       "      <td>Helsinki</td>\n",
       "    </tr>\n",
       "    <tr>\n",
       "      <th>13</th>\n",
       "      <td>19</td>\n",
       "      <td>1956</td>\n",
       "      <td>Summer</td>\n",
       "      <td>Melbourne</td>\n",
       "    </tr>\n",
       "    <tr>\n",
       "      <th>14</th>\n",
       "      <td>20</td>\n",
       "      <td>1956</td>\n",
       "      <td>Summer</td>\n",
       "      <td>Stockholm</td>\n",
       "    </tr>\n",
       "    <tr>\n",
       "      <th>15</th>\n",
       "      <td>22</td>\n",
       "      <td>1960</td>\n",
       "      <td>Summer</td>\n",
       "      <td>Roma</td>\n",
       "    </tr>\n",
       "    <tr>\n",
       "      <th>16</th>\n",
       "      <td>24</td>\n",
       "      <td>1964</td>\n",
       "      <td>Summer</td>\n",
       "      <td>Tokyo</td>\n",
       "    </tr>\n",
       "    <tr>\n",
       "      <th>17</th>\n",
       "      <td>26</td>\n",
       "      <td>1968</td>\n",
       "      <td>Summer</td>\n",
       "      <td>Mexico City</td>\n",
       "    </tr>\n",
       "    <tr>\n",
       "      <th>18</th>\n",
       "      <td>28</td>\n",
       "      <td>1972</td>\n",
       "      <td>Summer</td>\n",
       "      <td>Munich</td>\n",
       "    </tr>\n",
       "    <tr>\n",
       "      <th>19</th>\n",
       "      <td>30</td>\n",
       "      <td>1976</td>\n",
       "      <td>Summer</td>\n",
       "      <td>Montreal</td>\n",
       "    </tr>\n",
       "    <tr>\n",
       "      <th>20</th>\n",
       "      <td>32</td>\n",
       "      <td>1980</td>\n",
       "      <td>Summer</td>\n",
       "      <td>Moskva</td>\n",
       "    </tr>\n",
       "    <tr>\n",
       "      <th>21</th>\n",
       "      <td>34</td>\n",
       "      <td>1984</td>\n",
       "      <td>Summer</td>\n",
       "      <td>Los Angeles</td>\n",
       "    </tr>\n",
       "    <tr>\n",
       "      <th>22</th>\n",
       "      <td>36</td>\n",
       "      <td>1988</td>\n",
       "      <td>Summer</td>\n",
       "      <td>Seoul</td>\n",
       "    </tr>\n",
       "    <tr>\n",
       "      <th>23</th>\n",
       "      <td>38</td>\n",
       "      <td>1992</td>\n",
       "      <td>Summer</td>\n",
       "      <td>Barcelona</td>\n",
       "    </tr>\n",
       "    <tr>\n",
       "      <th>24</th>\n",
       "      <td>41</td>\n",
       "      <td>1996</td>\n",
       "      <td>Summer</td>\n",
       "      <td>Atlanta</td>\n",
       "    </tr>\n",
       "    <tr>\n",
       "      <th>25</th>\n",
       "      <td>43</td>\n",
       "      <td>2000</td>\n",
       "      <td>Summer</td>\n",
       "      <td>Sydney</td>\n",
       "    </tr>\n",
       "    <tr>\n",
       "      <th>26</th>\n",
       "      <td>45</td>\n",
       "      <td>2004</td>\n",
       "      <td>Summer</td>\n",
       "      <td>Athina</td>\n",
       "    </tr>\n",
       "    <tr>\n",
       "      <th>27</th>\n",
       "      <td>47</td>\n",
       "      <td>2008</td>\n",
       "      <td>Summer</td>\n",
       "      <td>Beijing</td>\n",
       "    </tr>\n",
       "    <tr>\n",
       "      <th>28</th>\n",
       "      <td>49</td>\n",
       "      <td>2012</td>\n",
       "      <td>Summer</td>\n",
       "      <td>London</td>\n",
       "    </tr>\n",
       "    <tr>\n",
       "      <th>29</th>\n",
       "      <td>51</td>\n",
       "      <td>2016</td>\n",
       "      <td>Summer</td>\n",
       "      <td>Rio de Janeiro</td>\n",
       "    </tr>\n",
       "  </tbody>\n",
       "</table>\n",
       "</div>"
      ],
      "text/plain": [
       "    index  Year  Season            City\n",
       "0       0  1896  Summer          Athina\n",
       "1       1  1900  Summer           Paris\n",
       "2       2  1904  Summer       St. Louis\n",
       "3       3  1906  Summer          Athina\n",
       "4       4  1908  Summer          London\n",
       "5       5  1912  Summer       Stockholm\n",
       "6       6  1920  Summer       Antwerpen\n",
       "7       7  1924  Summer           Paris\n",
       "8       9  1928  Summer       Amsterdam\n",
       "9      11  1932  Summer     Los Angeles\n",
       "10     13  1936  Summer          Berlin\n",
       "11     15  1948  Summer          London\n",
       "12     17  1952  Summer        Helsinki\n",
       "13     19  1956  Summer       Melbourne\n",
       "14     20  1956  Summer       Stockholm\n",
       "15     22  1960  Summer            Roma\n",
       "16     24  1964  Summer           Tokyo\n",
       "17     26  1968  Summer     Mexico City\n",
       "18     28  1972  Summer          Munich\n",
       "19     30  1976  Summer        Montreal\n",
       "20     32  1980  Summer          Moskva\n",
       "21     34  1984  Summer     Los Angeles\n",
       "22     36  1988  Summer           Seoul\n",
       "23     38  1992  Summer       Barcelona\n",
       "24     41  1996  Summer         Atlanta\n",
       "25     43  2000  Summer          Sydney\n",
       "26     45  2004  Summer          Athina\n",
       "27     47  2008  Summer         Beijing\n",
       "28     49  2012  Summer          London\n",
       "29     51  2016  Summer  Rio de Janeiro"
      ]
     },
     "execution_count": 7,
     "metadata": {},
     "output_type": "execute_result"
    }
   ],
   "source": [
    "Olympics=Data.groupby(by=['Year','Season','City'], as_index=False).first()\n",
    "Olympics=Olympics[['Year','Season','City']]\n",
    "Olympics.loc[Olympics['Season']=='Summer'].reset_index()"
   ]
  },
  {
   "cell_type": "markdown",
   "metadata": {},
   "source": [
    "Летних олимпийских игр уже было 29 штук. Примечательно, что порядковый номер индекса начнает отличаться от фактического порядкового номера олимпиады после седьмых игр в Париже в 1924г. Это объясняется тем, что после этого появилсиь и Зимние Олимпийские игры, которые были проведены 21 раз:"
   ]
  },
  {
   "cell_type": "code",
   "execution_count": 8,
   "metadata": {},
   "outputs": [
    {
     "data": {
      "text/html": [
       "<div>\n",
       "<style scoped>\n",
       "    .dataframe tbody tr th:only-of-type {\n",
       "        vertical-align: middle;\n",
       "    }\n",
       "\n",
       "    .dataframe tbody tr th {\n",
       "        vertical-align: top;\n",
       "    }\n",
       "\n",
       "    .dataframe thead th {\n",
       "        text-align: right;\n",
       "    }\n",
       "</style>\n",
       "<table border=\"1\" class=\"dataframe\">\n",
       "  <thead>\n",
       "    <tr style=\"text-align: right;\">\n",
       "      <th></th>\n",
       "      <th>index</th>\n",
       "      <th>Year</th>\n",
       "      <th>Season</th>\n",
       "      <th>City</th>\n",
       "    </tr>\n",
       "  </thead>\n",
       "  <tbody>\n",
       "    <tr>\n",
       "      <th>0</th>\n",
       "      <td>8</td>\n",
       "      <td>1924</td>\n",
       "      <td>Winter</td>\n",
       "      <td>Chamonix</td>\n",
       "    </tr>\n",
       "    <tr>\n",
       "      <th>1</th>\n",
       "      <td>10</td>\n",
       "      <td>1928</td>\n",
       "      <td>Winter</td>\n",
       "      <td>Sankt Moritz</td>\n",
       "    </tr>\n",
       "    <tr>\n",
       "      <th>2</th>\n",
       "      <td>12</td>\n",
       "      <td>1932</td>\n",
       "      <td>Winter</td>\n",
       "      <td>Lake Placid</td>\n",
       "    </tr>\n",
       "    <tr>\n",
       "      <th>3</th>\n",
       "      <td>14</td>\n",
       "      <td>1936</td>\n",
       "      <td>Winter</td>\n",
       "      <td>Garmisch-Partenkirchen</td>\n",
       "    </tr>\n",
       "    <tr>\n",
       "      <th>4</th>\n",
       "      <td>16</td>\n",
       "      <td>1948</td>\n",
       "      <td>Winter</td>\n",
       "      <td>Sankt Moritz</td>\n",
       "    </tr>\n",
       "    <tr>\n",
       "      <th>5</th>\n",
       "      <td>18</td>\n",
       "      <td>1952</td>\n",
       "      <td>Winter</td>\n",
       "      <td>Oslo</td>\n",
       "    </tr>\n",
       "    <tr>\n",
       "      <th>6</th>\n",
       "      <td>21</td>\n",
       "      <td>1956</td>\n",
       "      <td>Winter</td>\n",
       "      <td>Cortina d'Ampezzo</td>\n",
       "    </tr>\n",
       "    <tr>\n",
       "      <th>7</th>\n",
       "      <td>23</td>\n",
       "      <td>1960</td>\n",
       "      <td>Winter</td>\n",
       "      <td>Squaw Valley</td>\n",
       "    </tr>\n",
       "    <tr>\n",
       "      <th>8</th>\n",
       "      <td>25</td>\n",
       "      <td>1964</td>\n",
       "      <td>Winter</td>\n",
       "      <td>Innsbruck</td>\n",
       "    </tr>\n",
       "    <tr>\n",
       "      <th>9</th>\n",
       "      <td>27</td>\n",
       "      <td>1968</td>\n",
       "      <td>Winter</td>\n",
       "      <td>Grenoble</td>\n",
       "    </tr>\n",
       "    <tr>\n",
       "      <th>10</th>\n",
       "      <td>29</td>\n",
       "      <td>1972</td>\n",
       "      <td>Winter</td>\n",
       "      <td>Sapporo</td>\n",
       "    </tr>\n",
       "    <tr>\n",
       "      <th>11</th>\n",
       "      <td>31</td>\n",
       "      <td>1976</td>\n",
       "      <td>Winter</td>\n",
       "      <td>Innsbruck</td>\n",
       "    </tr>\n",
       "    <tr>\n",
       "      <th>12</th>\n",
       "      <td>33</td>\n",
       "      <td>1980</td>\n",
       "      <td>Winter</td>\n",
       "      <td>Lake Placid</td>\n",
       "    </tr>\n",
       "    <tr>\n",
       "      <th>13</th>\n",
       "      <td>35</td>\n",
       "      <td>1984</td>\n",
       "      <td>Winter</td>\n",
       "      <td>Sarajevo</td>\n",
       "    </tr>\n",
       "    <tr>\n",
       "      <th>14</th>\n",
       "      <td>37</td>\n",
       "      <td>1988</td>\n",
       "      <td>Winter</td>\n",
       "      <td>Calgary</td>\n",
       "    </tr>\n",
       "    <tr>\n",
       "      <th>15</th>\n",
       "      <td>39</td>\n",
       "      <td>1992</td>\n",
       "      <td>Winter</td>\n",
       "      <td>Albertville</td>\n",
       "    </tr>\n",
       "    <tr>\n",
       "      <th>16</th>\n",
       "      <td>40</td>\n",
       "      <td>1994</td>\n",
       "      <td>Winter</td>\n",
       "      <td>Lillehammer</td>\n",
       "    </tr>\n",
       "    <tr>\n",
       "      <th>17</th>\n",
       "      <td>42</td>\n",
       "      <td>1998</td>\n",
       "      <td>Winter</td>\n",
       "      <td>Nagano</td>\n",
       "    </tr>\n",
       "    <tr>\n",
       "      <th>18</th>\n",
       "      <td>44</td>\n",
       "      <td>2002</td>\n",
       "      <td>Winter</td>\n",
       "      <td>Salt Lake City</td>\n",
       "    </tr>\n",
       "    <tr>\n",
       "      <th>19</th>\n",
       "      <td>46</td>\n",
       "      <td>2006</td>\n",
       "      <td>Winter</td>\n",
       "      <td>Torino</td>\n",
       "    </tr>\n",
       "    <tr>\n",
       "      <th>20</th>\n",
       "      <td>48</td>\n",
       "      <td>2010</td>\n",
       "      <td>Winter</td>\n",
       "      <td>Vancouver</td>\n",
       "    </tr>\n",
       "    <tr>\n",
       "      <th>21</th>\n",
       "      <td>50</td>\n",
       "      <td>2014</td>\n",
       "      <td>Winter</td>\n",
       "      <td>Sochi</td>\n",
       "    </tr>\n",
       "  </tbody>\n",
       "</table>\n",
       "</div>"
      ],
      "text/plain": [
       "    index  Year  Season                    City\n",
       "0       8  1924  Winter                Chamonix\n",
       "1      10  1928  Winter            Sankt Moritz\n",
       "2      12  1932  Winter             Lake Placid\n",
       "3      14  1936  Winter  Garmisch-Partenkirchen\n",
       "4      16  1948  Winter            Sankt Moritz\n",
       "5      18  1952  Winter                    Oslo\n",
       "6      21  1956  Winter       Cortina d'Ampezzo\n",
       "7      23  1960  Winter            Squaw Valley\n",
       "8      25  1964  Winter               Innsbruck\n",
       "9      27  1968  Winter                Grenoble\n",
       "10     29  1972  Winter                 Sapporo\n",
       "11     31  1976  Winter               Innsbruck\n",
       "12     33  1980  Winter             Lake Placid\n",
       "13     35  1984  Winter                Sarajevo\n",
       "14     37  1988  Winter                 Calgary\n",
       "15     39  1992  Winter             Albertville\n",
       "16     40  1994  Winter             Lillehammer\n",
       "17     42  1998  Winter                  Nagano\n",
       "18     44  2002  Winter          Salt Lake City\n",
       "19     46  2006  Winter                  Torino\n",
       "20     48  2010  Winter               Vancouver\n",
       "21     50  2014  Winter                   Sochi"
      ]
     },
     "execution_count": 8,
     "metadata": {},
     "output_type": "execute_result"
    }
   ],
   "source": [
    "Olympics.loc[Olympics['Season']=='Winter'].reset_index()"
   ]
  },
  {
   "cell_type": "markdown",
   "metadata": {},
   "source": [
    "### 2.2 Наиболее масштабные по мероприятиям олимпийские виды спорта"
   ]
  },
  {
   "cell_type": "markdown",
   "metadata": {},
   "source": [
    "Посмотрим на топ-15 олимпийских видов спорта, в которых произошло больше всего спортивных мероприятий (матчей, забегов, розыгрышей медалей и т.д.):"
   ]
  },
  {
   "cell_type": "code",
   "execution_count": 9,
   "metadata": {},
   "outputs": [
    {
     "data": {
      "text/html": [
       "<div>\n",
       "<style scoped>\n",
       "    .dataframe tbody tr th:only-of-type {\n",
       "        vertical-align: middle;\n",
       "    }\n",
       "\n",
       "    .dataframe tbody tr th {\n",
       "        vertical-align: top;\n",
       "    }\n",
       "\n",
       "    .dataframe thead th {\n",
       "        text-align: right;\n",
       "    }\n",
       "</style>\n",
       "<table border=\"1\" class=\"dataframe\">\n",
       "  <thead>\n",
       "    <tr style=\"text-align: right;\">\n",
       "      <th></th>\n",
       "      <th>Sport</th>\n",
       "      <th>Event</th>\n",
       "    </tr>\n",
       "  </thead>\n",
       "  <tbody>\n",
       "    <tr>\n",
       "      <th>5</th>\n",
       "      <td>Athletics</td>\n",
       "      <td>38624</td>\n",
       "    </tr>\n",
       "    <tr>\n",
       "      <th>27</th>\n",
       "      <td>Gymnastics</td>\n",
       "      <td>26707</td>\n",
       "    </tr>\n",
       "    <tr>\n",
       "      <th>54</th>\n",
       "      <td>Swimming</td>\n",
       "      <td>23195</td>\n",
       "    </tr>\n",
       "    <tr>\n",
       "      <th>47</th>\n",
       "      <td>Shooting</td>\n",
       "      <td>11448</td>\n",
       "    </tr>\n",
       "    <tr>\n",
       "      <th>19</th>\n",
       "      <td>Cycling</td>\n",
       "      <td>10859</td>\n",
       "    </tr>\n",
       "    <tr>\n",
       "      <th>22</th>\n",
       "      <td>Fencing</td>\n",
       "      <td>10735</td>\n",
       "    </tr>\n",
       "    <tr>\n",
       "      <th>43</th>\n",
       "      <td>Rowing</td>\n",
       "      <td>10595</td>\n",
       "    </tr>\n",
       "    <tr>\n",
       "      <th>17</th>\n",
       "      <td>Cross Country Skiing</td>\n",
       "      <td>9133</td>\n",
       "    </tr>\n",
       "    <tr>\n",
       "      <th>1</th>\n",
       "      <td>Alpine Skiing</td>\n",
       "      <td>8829</td>\n",
       "    </tr>\n",
       "    <tr>\n",
       "      <th>65</th>\n",
       "      <td>Wrestling</td>\n",
       "      <td>7154</td>\n",
       "    </tr>\n",
       "    <tr>\n",
       "      <th>24</th>\n",
       "      <td>Football</td>\n",
       "      <td>6745</td>\n",
       "    </tr>\n",
       "    <tr>\n",
       "      <th>46</th>\n",
       "      <td>Sailing</td>\n",
       "      <td>6586</td>\n",
       "    </tr>\n",
       "    <tr>\n",
       "      <th>21</th>\n",
       "      <td>Equestrianism</td>\n",
       "      <td>6344</td>\n",
       "    </tr>\n",
       "    <tr>\n",
       "      <th>14</th>\n",
       "      <td>Canoeing</td>\n",
       "      <td>6171</td>\n",
       "    </tr>\n",
       "    <tr>\n",
       "      <th>13</th>\n",
       "      <td>Boxing</td>\n",
       "      <td>6047</td>\n",
       "    </tr>\n",
       "  </tbody>\n",
       "</table>\n",
       "</div>"
      ],
      "text/plain": [
       "                   Sport  Event\n",
       "5              Athletics  38624\n",
       "27            Gymnastics  26707\n",
       "54              Swimming  23195\n",
       "47              Shooting  11448\n",
       "19               Cycling  10859\n",
       "22               Fencing  10735\n",
       "43                Rowing  10595\n",
       "17  Cross Country Skiing   9133\n",
       "1          Alpine Skiing   8829\n",
       "65             Wrestling   7154\n",
       "24              Football   6745\n",
       "46               Sailing   6586\n",
       "21         Equestrianism   6344\n",
       "14              Canoeing   6171\n",
       "13                Boxing   6047"
      ]
     },
     "execution_count": 9,
     "metadata": {},
     "output_type": "execute_result"
    }
   ],
   "source": [
    "Events.groupby('Sport',as_index=False)['Event'].count().sort_values(by='Event',ascending=False).head(15)"
   ]
  },
  {
   "cell_type": "markdown",
   "metadata": {},
   "source": [
    "### 2.3 Исследование медалей"
   ]
  },
  {
   "cell_type": "markdown",
   "metadata": {},
   "source": [
    "Посмотрим на топ-10 самых успешных стран по количеству выигранных медалей:"
   ]
  },
  {
   "cell_type": "code",
   "execution_count": 10,
   "metadata": {},
   "outputs": [
    {
     "data": {
      "image/png": "[encoded data removed]",
      "text/plain": [
       "<Figure size 1080x720 with 1 Axes>"
      ]
     },
     "metadata": {
      "needs_background": "light"
     },
     "output_type": "display_data"
    }
   ],
   "source": [
    "plt.figure(figsize=(15, 10))\n",
    "topc=Data.groupby('region')['Medal'].count().nlargest(10).reset_index()\n",
    "sns.barplot('region','Medal',data=topc)\n",
    "plt.title('Топ стран по Олимпийским медалям')\n",
    "plt.show()"
   ]
  },
  {
   "cell_type": "markdown",
   "metadata": {},
   "source": [
    "Посмотрим, как в этих странах распределились их медали Летних играх:"
   ]
  },
  {
   "cell_type": "code",
   "execution_count": 11,
   "metadata": {},
   "outputs": [
    {
     "data": {
      "image/png": "[encoded data removed]",
      "text/plain": [
       "<Figure size 1332x756 with 1 Axes>"
      ]
     },
     "metadata": {
      "needs_background": "light"
     },
     "output_type": "display_data"
    }
   ],
   "source": [
    "c_medal=Data[Data['Season']=='Summer'].groupby(['region','Medal'])['Sex'].count().reset_index()\n",
    "c_medal=c_medal.pivot('region','Medal','Sex').fillna(0).sort_values(by='Gold',ascending=False).head(20)\n",
    "c_medal.plot(kind='bar')\n",
    "plt.xlabel('Country')\n",
    "plt.title('Медали по стране в Летних играх')\n",
    "fig = plt.gcf()\n",
    "fig.set_size_inches(18.5, 10.5)\n",
    "plt.show()"
   ]
  },
  {
   "cell_type": "markdown",
   "metadata": {},
   "source": [
    "...а теперь посмотрим по Зимним:"
   ]
  },
  {
   "cell_type": "code",
   "execution_count": 76,
   "metadata": {},
   "outputs": [
    {
     "data": {
      "image/png": "[encoded data removed]",
      "text/plain": [
       "<Figure size 1332x756 with 1 Axes>"
      ]
     },
     "metadata": {
      "needs_background": "light"
     },
     "output_type": "display_data"
    }
   ],
   "source": [
    "c_medal=Data[Data['Season']=='Winter'].groupby(['region','Medal'])['Sex'].count().reset_index()\n",
    "c_medal=c_medal.pivot('region','Medal','Sex').fillna(0).sort_values(by='Gold',ascending=False).head(20)\n",
    "c_medal.plot(kind='bar')\n",
    "plt.xlabel('Country')\n",
    "plt.title('Медали по стране в Зимних играх')\n",
    "fig = plt.gcf()\n",
    "fig.set_size_inches(18.5, 10.5)\n",
    "plt.show()"
   ]
  },
  {
   "cell_type": "markdown",
   "metadata": {},
   "source": [
    "Здесь мы на 1-м месте, что приятно :)"
   ]
  },
  {
   "cell_type": "markdown",
   "metadata": {},
   "source": [
    "### 2.4 Исследование физических данных атлетов"
   ]
  },
  {
   "cell_type": "markdown",
   "metadata": {},
   "source": [
    "Посмотрим на рост спотсменов в зависимости от вида спорта:"
   ]
  },
  {
   "cell_type": "code",
   "execution_count": 13,
   "metadata": {},
   "outputs": [
    {
     "data": {
      "image/png": "[encoded data removed]",
      "text/plain": [
       "<Figure size 1440x720 with 1 Axes>"
      ]
     },
     "metadata": {
      "needs_background": "light"
     },
     "output_type": "display_data"
    }
   ],
   "source": [
    "plt.figure(figsize=(20, 10))\n",
    "sns.boxplot(x='Sport',y='Height',data=Data)\n",
    "\n",
    "plt.xticks(rotation = 90)\n",
    "plt.show()"
   ]
  },
  {
   "cell_type": "markdown",
   "metadata": {},
   "source": [
    "Как и ожидалось, наиболее высокий рост соответсвует: баскетболитсам, волейболистам, гандболистам, ватерполистам (водное поло). Спортсмены из гимнастики и дайвинга, наоборот, имеют более низкий рост.\n",
    "\n",
    "Посмотрим теперь на вес спортсменов:"
   ]
  },
  {
   "cell_type": "code",
   "execution_count": 14,
   "metadata": {},
   "outputs": [
    {
     "data": {
      "image/png": "[encoded data removed]",
      "text/plain": [
       "<Figure size 1440x720 with 1 Axes>"
      ]
     },
     "metadata": {
      "needs_background": "light"
     },
     "output_type": "display_data"
    }
   ],
   "source": [
    "plt.figure(figsize=(20, 10))\n",
    "sns.boxplot(x='Sport',y='Weight',data=Data)\n",
    "\n",
    "plt.xticks(rotation = 90)\n",
    "plt.show()"
   ]
  },
  {
   "cell_type": "markdown",
   "metadata": {},
   "source": [
    "Поскольку гимнатсы ниже, они легче. Интересно, что самые тяжелые спорстмены встречаются в Tug-Of-War (перетягивание каната), бобслее и бейсболе."
   ]
  },
  {
   "cell_type": "markdown",
   "metadata": {},
   "source": [
    "### 2.5 Исследование участия нашей страны"
   ]
  },
  {
   "cell_type": "markdown",
   "metadata": {},
   "source": [
    "Посмотрим на топ-15 дисциплин, в которых российские спортсмены участвовали больше всего:"
   ]
  },
  {
   "cell_type": "code",
   "execution_count": 15,
   "metadata": {},
   "outputs": [
    {
     "data": {
      "image/png": "[encoded data removed]",
      "text/plain": [
       "<Figure size 1440x1080 with 1 Axes>"
      ]
     },
     "metadata": {
      "needs_background": "light"
     },
     "output_type": "display_data"
    }
   ],
   "source": [
    "Russia_part=Events[Events['Team']=='Russia']['Sport'].value_counts().head(15)\n",
    "plt.figure(figsize=(20,15))\n",
    "g = squarify.plot(sizes=Russia_part.values, label=Russia_part.index, \n",
    "                  value=Russia_part.values,\n",
    "                  alpha=.4,color=[\"red\",\"green\",\"blue\", \"grey\"])\n",
    "g.set_title(\"Участие России в Олимпийских дисциплинах\",fontsize=20)\n",
    "g.set_axis_off()\n",
    "plt.show()"
   ]
  },
  {
   "cell_type": "markdown",
   "metadata": {},
   "source": [
    "# 3. Machine Learning"
   ]
  },
  {
   "cell_type": "markdown",
   "metadata": {},
   "source": [
    "В этой части будем строить модели по прогнозированию. Попытаемся предсказать пол спортсмена, исходя из его антропопметрических данных, страны, виде спорта, возраста и медали, которую он смог завоевать. \n",
    "Для начала получим необходимый датасет, убрав из него все ненужное:\n",
    "\n",
    "\n",
    "===\n",
    "\n",
    "*p.s. сначала пытался предсказать, какую медаль завоюет атлет, зная его пол, рост, вес, страну и вид спорта. Лучший accuracy был достгнут при построении случайного леса и составил всего 41%, что говорит о отсуствии какой-либо заакономерности и низкой полезности моделей.*"
   ]
  },
  {
   "cell_type": "code",
   "execution_count": 16,
   "metadata": {},
   "outputs": [
    {
     "data": {
      "text/html": [
       "<div>\n",
       "<style scoped>\n",
       "    .dataframe tbody tr th:only-of-type {\n",
       "        vertical-align: middle;\n",
       "    }\n",
       "\n",
       "    .dataframe tbody tr th {\n",
       "        vertical-align: top;\n",
       "    }\n",
       "\n",
       "    .dataframe thead th {\n",
       "        text-align: right;\n",
       "    }\n",
       "</style>\n",
       "<table border=\"1\" class=\"dataframe\">\n",
       "  <thead>\n",
       "    <tr style=\"text-align: right;\">\n",
       "      <th></th>\n",
       "      <th>ID</th>\n",
       "      <th>Name</th>\n",
       "      <th>Sex</th>\n",
       "      <th>Age</th>\n",
       "      <th>Height</th>\n",
       "      <th>Weight</th>\n",
       "      <th>Team</th>\n",
       "      <th>NOC</th>\n",
       "      <th>Games</th>\n",
       "      <th>Year</th>\n",
       "      <th>Season</th>\n",
       "      <th>City</th>\n",
       "      <th>Sport</th>\n",
       "      <th>Event</th>\n",
       "      <th>Medal</th>\n",
       "      <th>region</th>\n",
       "      <th>notes</th>\n",
       "    </tr>\n",
       "  </thead>\n",
       "  <tbody>\n",
       "    <tr>\n",
       "      <th>0</th>\n",
       "      <td>1</td>\n",
       "      <td>A Dijiang</td>\n",
       "      <td>M</td>\n",
       "      <td>24.0</td>\n",
       "      <td>180.0</td>\n",
       "      <td>80.0</td>\n",
       "      <td>China</td>\n",
       "      <td>CHN</td>\n",
       "      <td>1992 Summer</td>\n",
       "      <td>1992</td>\n",
       "      <td>Summer</td>\n",
       "      <td>Barcelona</td>\n",
       "      <td>Basketball</td>\n",
       "      <td>Basketball Men's Basketball</td>\n",
       "      <td>NaN</td>\n",
       "      <td>China</td>\n",
       "      <td>NaN</td>\n",
       "    </tr>\n",
       "    <tr>\n",
       "      <th>1</th>\n",
       "      <td>2</td>\n",
       "      <td>A Lamusi</td>\n",
       "      <td>M</td>\n",
       "      <td>23.0</td>\n",
       "      <td>170.0</td>\n",
       "      <td>60.0</td>\n",
       "      <td>China</td>\n",
       "      <td>CHN</td>\n",
       "      <td>2012 Summer</td>\n",
       "      <td>2012</td>\n",
       "      <td>Summer</td>\n",
       "      <td>London</td>\n",
       "      <td>Judo</td>\n",
       "      <td>Judo Men's Extra-Lightweight</td>\n",
       "      <td>NaN</td>\n",
       "      <td>China</td>\n",
       "      <td>NaN</td>\n",
       "    </tr>\n",
       "    <tr>\n",
       "      <th>2</th>\n",
       "      <td>3</td>\n",
       "      <td>Gunnar Nielsen Aaby</td>\n",
       "      <td>M</td>\n",
       "      <td>24.0</td>\n",
       "      <td>NaN</td>\n",
       "      <td>NaN</td>\n",
       "      <td>Denmark</td>\n",
       "      <td>DEN</td>\n",
       "      <td>1920 Summer</td>\n",
       "      <td>1920</td>\n",
       "      <td>Summer</td>\n",
       "      <td>Antwerpen</td>\n",
       "      <td>Football</td>\n",
       "      <td>Football Men's Football</td>\n",
       "      <td>NaN</td>\n",
       "      <td>Denmark</td>\n",
       "      <td>NaN</td>\n",
       "    </tr>\n",
       "  </tbody>\n",
       "</table>\n",
       "</div>"
      ],
      "text/plain": [
       "   ID                 Name Sex   Age  Height  Weight     Team  NOC  \\\n",
       "0   1            A Dijiang   M  24.0   180.0    80.0    China  CHN   \n",
       "1   2             A Lamusi   M  23.0   170.0    60.0    China  CHN   \n",
       "2   3  Gunnar Nielsen Aaby   M  24.0     NaN     NaN  Denmark  DEN   \n",
       "\n",
       "         Games  Year  Season       City       Sport  \\\n",
       "0  1992 Summer  1992  Summer  Barcelona  Basketball   \n",
       "1  2012 Summer  2012  Summer     London        Judo   \n",
       "2  1920 Summer  1920  Summer  Antwerpen    Football   \n",
       "\n",
       "                          Event Medal   region notes  \n",
       "0   Basketball Men's Basketball   NaN    China   NaN  \n",
       "1  Judo Men's Extra-Lightweight   NaN    China   NaN  \n",
       "2       Football Men's Football   NaN  Denmark   NaN  "
      ]
     },
     "execution_count": 16,
     "metadata": {},
     "output_type": "execute_result"
    }
   ],
   "source": [
    "Data.head(n=3)"
   ]
  },
  {
   "cell_type": "code",
   "execution_count": 17,
   "metadata": {},
   "outputs": [
    {
     "data": {
      "text/html": [
       "<div>\n",
       "<style scoped>\n",
       "    .dataframe tbody tr th:only-of-type {\n",
       "        vertical-align: middle;\n",
       "    }\n",
       "\n",
       "    .dataframe tbody tr th {\n",
       "        vertical-align: top;\n",
       "    }\n",
       "\n",
       "    .dataframe thead th {\n",
       "        text-align: right;\n",
       "    }\n",
       "</style>\n",
       "<table border=\"1\" class=\"dataframe\">\n",
       "  <thead>\n",
       "    <tr style=\"text-align: right;\">\n",
       "      <th></th>\n",
       "      <th>Sex</th>\n",
       "      <th>Age</th>\n",
       "      <th>Height</th>\n",
       "      <th>Weight</th>\n",
       "      <th>Season</th>\n",
       "      <th>Sport</th>\n",
       "      <th>Medal</th>\n",
       "      <th>region</th>\n",
       "    </tr>\n",
       "  </thead>\n",
       "  <tbody>\n",
       "    <tr>\n",
       "      <th>0</th>\n",
       "      <td>M</td>\n",
       "      <td>24.0</td>\n",
       "      <td>180.0</td>\n",
       "      <td>80.0</td>\n",
       "      <td>Summer</td>\n",
       "      <td>Basketball</td>\n",
       "      <td>NaN</td>\n",
       "      <td>China</td>\n",
       "    </tr>\n",
       "    <tr>\n",
       "      <th>1</th>\n",
       "      <td>M</td>\n",
       "      <td>23.0</td>\n",
       "      <td>170.0</td>\n",
       "      <td>60.0</td>\n",
       "      <td>Summer</td>\n",
       "      <td>Judo</td>\n",
       "      <td>NaN</td>\n",
       "      <td>China</td>\n",
       "    </tr>\n",
       "    <tr>\n",
       "      <th>2</th>\n",
       "      <td>M</td>\n",
       "      <td>24.0</td>\n",
       "      <td>NaN</td>\n",
       "      <td>NaN</td>\n",
       "      <td>Summer</td>\n",
       "      <td>Football</td>\n",
       "      <td>NaN</td>\n",
       "      <td>Denmark</td>\n",
       "    </tr>\n",
       "  </tbody>\n",
       "</table>\n",
       "</div>"
      ],
      "text/plain": [
       "  Sex   Age  Height  Weight  Season       Sport Medal   region\n",
       "0   M  24.0   180.0    80.0  Summer  Basketball   NaN    China\n",
       "1   M  23.0   170.0    60.0  Summer        Judo   NaN    China\n",
       "2   M  24.0     NaN     NaN  Summer    Football   NaN  Denmark"
      ]
     },
     "execution_count": 17,
     "metadata": {},
     "output_type": "execute_result"
    }
   ],
   "source": [
    "Data2 = Data.drop(['ID', 'Year', 'Name','NOC','Games','City','notes', 'Team', 'Event'], axis = 1)\n",
    "Data2.head(3)"
   ]
  },
  {
   "cell_type": "code",
   "execution_count": 18,
   "metadata": {},
   "outputs": [
    {
     "data": {
      "text/html": [
       "<div>\n",
       "<style scoped>\n",
       "    .dataframe tbody tr th:only-of-type {\n",
       "        vertical-align: middle;\n",
       "    }\n",
       "\n",
       "    .dataframe tbody tr th {\n",
       "        vertical-align: top;\n",
       "    }\n",
       "\n",
       "    .dataframe thead th {\n",
       "        text-align: right;\n",
       "    }\n",
       "</style>\n",
       "<table border=\"1\" class=\"dataframe\">\n",
       "  <thead>\n",
       "    <tr style=\"text-align: right;\">\n",
       "      <th></th>\n",
       "      <th>Sex</th>\n",
       "      <th>Age</th>\n",
       "      <th>Height</th>\n",
       "      <th>Weight</th>\n",
       "      <th>Season</th>\n",
       "      <th>Sport</th>\n",
       "      <th>Medal</th>\n",
       "      <th>region</th>\n",
       "    </tr>\n",
       "  </thead>\n",
       "  <tbody>\n",
       "    <tr>\n",
       "      <th>40</th>\n",
       "      <td>M</td>\n",
       "      <td>28.0</td>\n",
       "      <td>184.0</td>\n",
       "      <td>85.0</td>\n",
       "      <td>Winter</td>\n",
       "      <td>Ice Hockey</td>\n",
       "      <td>Bronze</td>\n",
       "      <td>Finland</td>\n",
       "    </tr>\n",
       "    <tr>\n",
       "      <th>41</th>\n",
       "      <td>M</td>\n",
       "      <td>28.0</td>\n",
       "      <td>175.0</td>\n",
       "      <td>64.0</td>\n",
       "      <td>Summer</td>\n",
       "      <td>Gymnastics</td>\n",
       "      <td>Bronze</td>\n",
       "      <td>Finland</td>\n",
       "    </tr>\n",
       "    <tr>\n",
       "      <th>42</th>\n",
       "      <td>M</td>\n",
       "      <td>28.0</td>\n",
       "      <td>175.0</td>\n",
       "      <td>64.0</td>\n",
       "      <td>Summer</td>\n",
       "      <td>Gymnastics</td>\n",
       "      <td>Gold</td>\n",
       "      <td>Finland</td>\n",
       "    </tr>\n",
       "  </tbody>\n",
       "</table>\n",
       "</div>"
      ],
      "text/plain": [
       "   Sex   Age  Height  Weight  Season       Sport   Medal   region\n",
       "40   M  28.0   184.0    85.0  Winter  Ice Hockey  Bronze  Finland\n",
       "41   M  28.0   175.0    64.0  Summer  Gymnastics  Bronze  Finland\n",
       "42   M  28.0   175.0    64.0  Summer  Gymnastics    Gold  Finland"
      ]
     },
     "execution_count": 18,
     "metadata": {},
     "output_type": "execute_result"
    }
   ],
   "source": [
    "Data3 = Data2.dropna()\n",
    "Data3.head(3)"
   ]
  },
  {
   "cell_type": "code",
   "execution_count": 20,
   "metadata": {},
   "outputs": [
    {
     "name": "stdout",
     "output_type": "stream",
     "text": [
      "<class 'pandas.core.frame.DataFrame'>\n",
      "Int64Index: 30172 entries, 40 to 271103\n",
      "Data columns (total 8 columns):\n",
      "Sex       30172 non-null object\n",
      "Age       30172 non-null float64\n",
      "Height    30172 non-null float64\n",
      "Weight    30172 non-null float64\n",
      "Season    30172 non-null object\n",
      "Sport     30172 non-null object\n",
      "Medal     30172 non-null object\n",
      "region    30172 non-null object\n",
      "dtypes: float64(3), object(5)\n",
      "memory usage: 1.5+ MB\n"
     ]
    }
   ],
   "source": [
    "Data3.info(0)"
   ]
  },
  {
   "cell_type": "markdown",
   "metadata": {},
   "source": [
    "Наши данные представляют датафрейм на 30 172 строчку и 9 стоблцов с разными типами данных: (object, float64, int64).\n",
    "Теперь преобразуем все категориальные переменные в числовые, присвоив им индексы:"
   ]
  },
  {
   "cell_type": "code",
   "execution_count": 21,
   "metadata": {},
   "outputs": [
    {
     "name": "stderr",
     "output_type": "stream",
     "text": [
      "c:\\users\\иван\\appdata\\local\\programs\\python\\python37-32\\lib\\site-packages\\pandas\\core\\generic.py:4405: SettingWithCopyWarning: \n",
      "A value is trying to be set on a copy of a slice from a DataFrame.\n",
      "Try using .loc[row_indexer,col_indexer] = value instead\n",
      "\n",
      "See the caveats in the documentation: http://pandas.pydata.org/pandas-docs/stable/indexing.html#indexing-view-versus-copy\n",
      "  self[name] = value\n"
     ]
    }
   ],
   "source": [
    "#Замена категориальных значений Region на числовые\n",
    "Data3.region = Data3.region.replace('Finland', 1)\n",
    "Data3.region = Data3.region.replace(\"Norway\", 2)\n",
    "Data3.region = Data3.region.replace(\"Netherlands\", 3)\n",
    "Data3.region = Data3.region.replace(\"Italy\", 4)\n",
    "Data3.region = Data3.region.replace('Spain', 5)\n",
    "Data3.region = Data3.region.replace('Azerbaijan', 6)\n",
    "Data3.region = Data3.region.replace('Russia', 7)\n",
    "Data3.region = Data3.region.replace('Belarus', 8)\n",
    "\n",
    "Data3.region = Data3.region.replace('France', 9)\n",
    "Data3.region = Data3.region.replace(\"Cameroon\", 10)\n",
    "Data3.region = Data3.region.replace(\"USA\", 11)\n",
    "Data3.region = Data3.region.replace(\"Hungary\", 12)\n",
    "Data3.region = Data3.region.replace('Australia', 13)\n",
    "Data3.region = Data3.region.replace('Iran', 14)\n",
    "Data3.region = Data3.region.replace('Canada', 15)\n",
    "Data3.region = Data3.region.replace('Pakistan', 16)\n",
    "\n",
    "Data3.region = Data3.region.replace('Uzbekistan', 17)\n",
    "Data3.region = Data3.region.replace(\"Tajikistan\", 18)\n",
    "Data3.region = Data3.region.replace(\"Japan\", 19)\n",
    "Data3.region = Data3.region.replace(\"Ethiopia\", 20)\n",
    "Data3.region = Data3.region.replace('Germany', 21)\n",
    "Data3.region = Data3.region.replace('Sweden', 22)\n",
    "Data3.region = Data3.region.replace('Turkey', 23)\n",
    "Data3.region = Data3.region.replace('Bulgaria', 24)\n",
    "\n",
    "Data3.region = Data3.region.replace('Egypt', 25)\n",
    "Data3.region = Data3.region.replace(\"UK\", 26)\n",
    "Data3.region = Data3.region.replace(\"Jordan\", 27)\n",
    "Data3.region = Data3.region.replace(\"Romania\", 28)\n",
    "Data3.region = Data3.region.replace('Switzerland', 29)\n",
    "Data3.region = Data3.region.replace('Puerto Rico', 30)\n",
    "Data3.region = Data3.region.replace('Mexico', 31)\n",
    "Data3.region = Data3.region.replace('Ghana', 32)\n",
    "\n",
    "Data3.region = Data3.region.replace('Morocco', 33)\n",
    "Data3.region = Data3.region.replace(\"New Zealand\", 34)\n",
    "Data3.region = Data3.region.replace(\"Argentina\", 35)\n",
    "Data3.region = Data3.region.replace(\"Cuba\", 36)\n",
    "Data3.region = Data3.region.replace('Poland', 37)\n",
    "Data3.region = Data3.region.replace('Czech Republic', 38)\n",
    "Data3.region = Data3.region.replace('Nigeria', 39)\n",
    "Data3.region = Data3.region.replace('Brazil', 40)\n",
    "\n",
    "Data3.region = Data3.region.replace('Lithuania', 41)\n",
    "Data3.region = Data3.region.replace(\"South Africa\", 42)\n",
    "Data3.region = Data3.region.replace(\"Indonesia\", 43)\n",
    "Data3.region = Data3.region.replace(\"Chile\", 44)\n",
    "Data3.region = Data3.region.replace('Ukraine', 45)\n",
    "Data3.region = Data3.region.replace('Greece', 46)\n",
    "Data3.region = Data3.region.replace('Uganda', 47)\n",
    "Data3.region = Data3.region.replace('Syria', 48)\n",
    "\n",
    "Data3.region = Data3.region.replace('Qatar', 49)\n",
    "Data3.region = Data3.region.replace(\"Kuwait\", 50)\n",
    "Data3.region = Data3.region.replace(\"Individual Olympic Athletes\", 51)\n",
    "Data3.region = Data3.region.replace(\"Saudi Arabia\", 52)\n",
    "Data3.region = Data3.region.replace('United Arab Emirates', 53)\n",
    "Data3.region = Data3.region.replace('Croatia', 54)\n",
    "Data3.region = Data3.region.replace('Armenia', 55)\n",
    "Data3.region = Data3.region.replace('Serbia', 56)\n",
    "\n",
    "Data3.region = Data3.region.replace('Niger', 57)\n",
    "Data3.region = Data3.region.replace(\"India\", 58)\n",
    "Data3.region = Data3.region.replace(\"Algeria\", 59)\n",
    "Data3.region = Data3.region.replace(\"Austria\", 60)\n",
    "Data3.region = Data3.region.replace('Trinidad', 61)\n",
    "Data3.region = Data3.region.replace('Colombia', 62)\n",
    "Data3.region = Data3.region.replace('Botswana', 63)\n",
    "Data3.region = Data3.region.replace('Tunisia', 64)\n",
    "\n",
    "Data3.region = Data3.region.replace('South Korea', 65)\n",
    "Data3.region = Data3.region.replace(\"North Korea\", 66)\n",
    "Data3.region = Data3.region.replace(\"China\", 67)\n",
    "Data3.region = Data3.region.replace(\"Denmark\", 68)\n",
    "Data3.region = Data3.region.replace('Uruguay', 69)\n",
    "Data3.region = Data3.region.replace('Guyana', 70)\n",
    "Data3.region = Data3.region.replace('Kazakhstan', 71)\n",
    "Data3.region = Data3.region.replace('Georgia', 72)\n",
    "\n",
    "Data3.region = Data3.region.replace('Kenya', 73)\n",
    "Data3.region = Data3.region.replace(\"Iceland\", 74)\n",
    "Data3.region = Data3.region.replace(\"Jamaica\", 75)\n",
    "Data3.region = Data3.region.replace(\"Malaysia\", 76)\n",
    "Data3.region = Data3.region.replace('Slovakia', 77)\n",
    "Data3.region = Data3.region.replace('Bahamas', 78)\n",
    "Data3.region = Data3.region.replace('Paraguay', 79)\n",
    "Data3.region = Data3.region.replace('Montenegro', 80)\n",
    "\n",
    "Data3.region = Data3.region.replace('Ireland', 81)\n",
    "Data3.region = Data3.region.replace(\"Portugal\", 82)\n",
    "Data3.region = Data3.region.replace(\"Guatemala\", 83)\n",
    "Data3.region = Data3.region.replace(\"Luxembourg\", 84)\n",
    "Data3.region = Data3.region.replace('Belgium', 85)\n",
    "Data3.region = Data3.region.replace('Tanzania', 86)\n",
    "Data3.region = Data3.region.replace('Lebanon', 87)\n",
    "Data3.region = Data3.region.replace('Kyrgyzstan', 88)\n",
    "\n",
    "Data3.region = Data3.region.replace('Venezuela', 89)\n",
    "Data3.region = Data3.region.replace(\"Thailand\", 90)\n",
    "Data3.region = Data3.region.replace(\"Togo\", 91)\n",
    "Data3.region = Data3.region.replace(\"Peru\", 92)\n",
    "Data3.region = Data3.region.replace('Estonia', 93)\n",
    "Data3.region = Data3.region.replace('Slovenia', 94)\n",
    "Data3.region = Data3.region.replace('Haiti', 95)\n",
    "Data3.region = Data3.region.replace('Taiwan', 96)\n",
    "\n",
    "Data3.region = Data3.region.replace('Zimbabwe', 97)\n",
    "Data3.region = Data3.region.replace(\"Mongolia\", 98)\n",
    "Data3.region = Data3.region.replace(\"Moldova\", 99)\n",
    "Data3.region = Data3.region.replace(\"Ivory Coast\", 100)\n",
    "Data3.region = Data3.region.replace('Fiji', 101)\n",
    "Data3.region = Data3.region.replace('Senegal', 102)\n",
    "Data3.region = Data3.region.replace('Dominican Republic', 103)\n",
    "Data3.region = Data3.region.replace('Philippines', 104)\n",
    "\n",
    "Data3.region = Data3.region.replace('Latvia', 105)\n",
    "Data3.region = Data3.region.replace(\"Namibia\", 106)\n",
    "Data3.region = Data3.region.replace(\"Israel\", 107)\n",
    "Data3.region = Data3.region.replace(\"Liechtenstein\", 108)\n",
    "Data3.region = Data3.region.replace('Bermuda', 109)\n",
    "Data3.region = Data3.region.replace('Vietnam', 110)\n",
    "Data3.region = Data3.region.replace('Virgin Islands, US', 111)\n",
    "Data3.region = Data3.region.replace('Macedonia', 112)\n",
    "\n",
    "Data3.region = Data3.region.replace('Sudan', 113)\n",
    "Data3.region = Data3.region.replace(\"Bahrain\", 114)\n",
    "Data3.region = Data3.region.replace(\"Grenada\", 115)\n",
    "Data3.region = Data3.region.replace(\"Sri Lanka\", 116)\n",
    "Data3.region = Data3.region.replace('Mauritius', 117)\n",
    "Data3.region = Data3.region.replace('Kosovo', 118)\n",
    "Data3.region = Data3.region.replace('Cyprus', 119)\n",
    "Data3.region = Data3.region.replace('Panama', 120)\n",
    "\n",
    "Data3.region = Data3.region.replace('Zambia', 121)\n",
    "Data3.region = Data3.region.replace(\"Mozambique\", 122)\n",
    "Data3.region = Data3.region.replace(\"Suriname\", 123)\n",
    "Data3.region = Data3.region.replace(\"Afghanistan\", 124)\n",
    "Data3.region = Data3.region.replace('Burundi', 125)\n",
    "Data3.region = Data3.region.replace('Gabon', 126)\n",
    "Data3.region = Data3.region.replace('Ecuador', 127)\n",
    "Data3.region = Data3.region.replace('Costa Rica', 128)\n",
    "\n",
    "Data3.region = Data3.region.replace('Djibouti', 129)\n",
    "Data3.region = Data3.region.replace(\"Eritrea\", 130)\n",
    "Data3.region = Data3.region.replace(\"Barbados\", 131)\n",
    "Data3.region = Data3.region.replace(\"Tonga\", 132)"
   ]
  },
  {
   "cell_type": "code",
   "execution_count": 22,
   "metadata": {},
   "outputs": [
    {
     "name": "stderr",
     "output_type": "stream",
     "text": [
      "c:\\users\\иван\\appdata\\local\\programs\\python\\python37-32\\lib\\site-packages\\pandas\\core\\generic.py:4405: SettingWithCopyWarning: \n",
      "A value is trying to be set on a copy of a slice from a DataFrame.\n",
      "Try using .loc[row_indexer,col_indexer] = value instead\n",
      "\n",
      "See the caveats in the documentation: http://pandas.pydata.org/pandas-docs/stable/indexing.html#indexing-view-versus-copy\n",
      "  self[name] = value\n"
     ]
    }
   ],
   "source": [
    "#Замена категориальных значений Sport на числовые\n",
    "Data3.Sport = Data3.Sport.replace(\"Ice Hockey\", 1)\n",
    "Data3.Sport = Data3.Sport.replace(\"Gymnastics\", 2)\n",
    "Data3.Sport = Data3.Sport.replace(\"Alpine Skiing\", 3)\n",
    "Data3.Sport = Data3.Sport.replace(\"Rowing\", 4)\n",
    "Data3.Sport = Data3.Sport.replace('Football', 5)\n",
    "Data3.Sport = Data3.Sport.replace('Fencing', 6)\n",
    "Data3.Sport = Data3.Sport.replace('Taekwondo', 7)\n",
    "Data3.Sport = Data3.Sport.replace('Athletics', 8)\n",
    "\n",
    "Data3.Sport = Data3.Sport.replace('Canoeing', 9)\n",
    "Data3.Sport = Data3.Sport.replace('Handball', 10)\n",
    "Data3.Sport = Data3.Sport.replace('Water Polo', 11)\n",
    "Data3.Sport = Data3.Sport.replace('Wrestling', 12)\n",
    "Data3.Sport = Data3.Sport.replace('Sailing', 13)\n",
    "Data3.Sport = Data3.Sport.replace('Cycling', 14)\n",
    "Data3.Sport = Data3.Sport.replace('Hockey', 15)\n",
    "\n",
    "\n",
    "Data3.Sport = Data3.Sport.replace('Figure Skating', 16)\n",
    "Data3.Sport = Data3.Sport.replace('Softball', 17)\n",
    "Data3.Sport = Data3.Sport.replace('Swimming', 18)\n",
    "Data3.Sport = Data3.Sport.replace('Boxing', 19)\n",
    "Data3.Sport = Data3.Sport.replace('Basketball', 20)\n",
    "Data3.Sport = Data3.Sport.replace('Nordic Combined', 21)\n",
    "Data3.Sport = Data3.Sport.replace('Diving', 22)\n",
    "Data3.Sport = Data3.Sport.replace('Baseball', 23)\n",
    "\n",
    "Data3.Sport = Data3.Sport.replace('Volleyball', 24)\n",
    "Data3.Sport = Data3.Sport.replace('Speed Skating', 25)\n",
    "Data3.Sport = Data3.Sport.replace('Cross Country Skiing', 26)\n",
    "Data3.Sport = Data3.Sport.replace('Bobsleigh', 27)########################\n",
    "Data3.Sport = Data3.Sport.replace('Modern Pentathlon', 28)\n",
    "Data3.Sport = Data3.Sport.replace('Curling', 29)\n",
    "Data3.Sport = Data3.Sport.replace('Judo', 30)\n",
    "Data3.Sport = Data3.Sport.replace('Rugby Sevens', 31)\n",
    "\n",
    "Data3.Sport = Data3.Sport.replace('Tennis', 32)\n",
    "Data3.Sport = Data3.Sport.replace('Rhythmic Gymnastics', 33)\n",
    "Data3.Sport = Data3.Sport.replace('Weightlifting', 34)\n",
    "Data3.Sport = Data3.Sport.replace('Equestrianism', 35)########################\n",
    "Data3.Sport = Data3.Sport.replace('Badminton', 36)\n",
    "Data3.Sport = Data3.Sport.replace('Beach Volleyball', 37)\n",
    "Data3.Sport = Data3.Sport.replace('Ski Jumping', 38)\n",
    "Data3.Sport = Data3.Sport.replace('Shooting', 39)\n",
    "\n",
    "Data3.Sport = Data3.Sport.replace('Short Track Speed Skating', 40)\n",
    "Data3.Sport = Data3.Sport.replace('Biathlon', 41)\n",
    "Data3.Sport = Data3.Sport.replace('Synchronized Swimming', 42)\n",
    "Data3.Sport = Data3.Sport.replace('Freestyle Skiing', 43)########################\n",
    "Data3.Sport = Data3.Sport.replace('Triathlon', 44)\n",
    "Data3.Sport = Data3.Sport.replace('Luge', 45)\n",
    "Data3.Sport = Data3.Sport.replace('Table Tennis', 46)\n",
    "Data3.Sport = Data3.Sport.replace('Snowboarding', 47)\n",
    "\n",
    "Data3.Sport = Data3.Sport.replace('Skeleton', 48)\n",
    "Data3.Sport = Data3.Sport.replace('Rugby', 49)\n",
    "Data3.Sport = Data3.Sport.replace('Archery', 50)\n",
    "Data3.Sport = Data3.Sport.replace('Tug-Of-War', 51)########################\n",
    "Data3.Sport = Data3.Sport.replace('Trampolining', 52)\n",
    "Data3.Sport = Data3.Sport.replace('Lacrosse', 53)\n",
    "Data3.Sport = Data3.Sport.replace('Golf', 54)\n",
    "Data3.Sport = Data3.Sport.replace('Art Competitions', 55)"
   ]
  },
  {
   "cell_type": "code",
   "execution_count": 23,
   "metadata": {},
   "outputs": [
    {
     "name": "stderr",
     "output_type": "stream",
     "text": [
      "c:\\users\\иван\\appdata\\local\\programs\\python\\python37-32\\lib\\site-packages\\pandas\\core\\generic.py:4405: SettingWithCopyWarning: \n",
      "A value is trying to be set on a copy of a slice from a DataFrame.\n",
      "Try using .loc[row_indexer,col_indexer] = value instead\n",
      "\n",
      "See the caveats in the documentation: http://pandas.pydata.org/pandas-docs/stable/indexing.html#indexing-view-versus-copy\n",
      "  self[name] = value\n"
     ]
    }
   ],
   "source": [
    "#Замена категориальных значений медалий на числовые\n",
    "Data3.Medal = Data3.Medal.replace(\"Bronze\", 3)\n",
    "Data3.Medal = Data3.Medal.replace(\"Silver\", 2)\n",
    "Data3.Medal = Data3.Medal.replace(\"Gold\", 1)"
   ]
  },
  {
   "cell_type": "code",
   "execution_count": 24,
   "metadata": {},
   "outputs": [
    {
     "name": "stderr",
     "output_type": "stream",
     "text": [
      "c:\\users\\иван\\appdata\\local\\programs\\python\\python37-32\\lib\\site-packages\\pandas\\core\\generic.py:4405: SettingWithCopyWarning: \n",
      "A value is trying to be set on a copy of a slice from a DataFrame.\n",
      "Try using .loc[row_indexer,col_indexer] = value instead\n",
      "\n",
      "See the caveats in the documentation: http://pandas.pydata.org/pandas-docs/stable/indexing.html#indexing-view-versus-copy\n",
      "  self[name] = value\n"
     ]
    }
   ],
   "source": [
    "#Замена категориальных значений Season на числовые\n",
    "Data3.Season = Data3.Season.replace(\"Summer\", 1)\n",
    "Data3.Season = Data3.Season.replace(\"Winter\", 0)"
   ]
  },
  {
   "cell_type": "code",
   "execution_count": 25,
   "metadata": {},
   "outputs": [
    {
     "name": "stderr",
     "output_type": "stream",
     "text": [
      "c:\\users\\иван\\appdata\\local\\programs\\python\\python37-32\\lib\\site-packages\\pandas\\core\\generic.py:4405: SettingWithCopyWarning: \n",
      "A value is trying to be set on a copy of a slice from a DataFrame.\n",
      "Try using .loc[row_indexer,col_indexer] = value instead\n",
      "\n",
      "See the caveats in the documentation: http://pandas.pydata.org/pandas-docs/stable/indexing.html#indexing-view-versus-copy\n",
      "  self[name] = value\n"
     ]
    }
   ],
   "source": [
    "#Замена категориальных значений Sex на числовые\n",
    "Data3.Sex = Data3.Sex.replace(\"M\", 1)\n",
    "Data3.Sex = Data3.Sex.replace(\"F\", 0)"
   ]
  },
  {
   "cell_type": "code",
   "execution_count": 26,
   "metadata": {},
   "outputs": [
    {
     "data": {
      "text/html": [
       "<div>\n",
       "<style scoped>\n",
       "    .dataframe tbody tr th:only-of-type {\n",
       "        vertical-align: middle;\n",
       "    }\n",
       "\n",
       "    .dataframe tbody tr th {\n",
       "        vertical-align: top;\n",
       "    }\n",
       "\n",
       "    .dataframe thead th {\n",
       "        text-align: right;\n",
       "    }\n",
       "</style>\n",
       "<table border=\"1\" class=\"dataframe\">\n",
       "  <thead>\n",
       "    <tr style=\"text-align: right;\">\n",
       "      <th></th>\n",
       "      <th>Sex</th>\n",
       "      <th>Age</th>\n",
       "      <th>Height</th>\n",
       "      <th>Weight</th>\n",
       "      <th>Season</th>\n",
       "      <th>Sport</th>\n",
       "      <th>Medal</th>\n",
       "      <th>region</th>\n",
       "    </tr>\n",
       "  </thead>\n",
       "  <tbody>\n",
       "    <tr>\n",
       "      <th>40</th>\n",
       "      <td>1</td>\n",
       "      <td>28.0</td>\n",
       "      <td>184.0</td>\n",
       "      <td>85.0</td>\n",
       "      <td>0</td>\n",
       "      <td>1</td>\n",
       "      <td>3</td>\n",
       "      <td>1</td>\n",
       "    </tr>\n",
       "    <tr>\n",
       "      <th>41</th>\n",
       "      <td>1</td>\n",
       "      <td>28.0</td>\n",
       "      <td>175.0</td>\n",
       "      <td>64.0</td>\n",
       "      <td>1</td>\n",
       "      <td>2</td>\n",
       "      <td>3</td>\n",
       "      <td>1</td>\n",
       "    </tr>\n",
       "    <tr>\n",
       "      <th>42</th>\n",
       "      <td>1</td>\n",
       "      <td>28.0</td>\n",
       "      <td>175.0</td>\n",
       "      <td>64.0</td>\n",
       "      <td>1</td>\n",
       "      <td>2</td>\n",
       "      <td>1</td>\n",
       "      <td>1</td>\n",
       "    </tr>\n",
       "    <tr>\n",
       "      <th>44</th>\n",
       "      <td>1</td>\n",
       "      <td>28.0</td>\n",
       "      <td>175.0</td>\n",
       "      <td>64.0</td>\n",
       "      <td>1</td>\n",
       "      <td>2</td>\n",
       "      <td>1</td>\n",
       "      <td>1</td>\n",
       "    </tr>\n",
       "    <tr>\n",
       "      <th>48</th>\n",
       "      <td>1</td>\n",
       "      <td>28.0</td>\n",
       "      <td>175.0</td>\n",
       "      <td>64.0</td>\n",
       "      <td>1</td>\n",
       "      <td>2</td>\n",
       "      <td>1</td>\n",
       "      <td>1</td>\n",
       "    </tr>\n",
       "    <tr>\n",
       "      <th>50</th>\n",
       "      <td>1</td>\n",
       "      <td>32.0</td>\n",
       "      <td>175.0</td>\n",
       "      <td>64.0</td>\n",
       "      <td>1</td>\n",
       "      <td>2</td>\n",
       "      <td>3</td>\n",
       "      <td>1</td>\n",
       "    </tr>\n",
       "    <tr>\n",
       "      <th>60</th>\n",
       "      <td>1</td>\n",
       "      <td>20.0</td>\n",
       "      <td>176.0</td>\n",
       "      <td>85.0</td>\n",
       "      <td>0</td>\n",
       "      <td>3</td>\n",
       "      <td>1</td>\n",
       "      <td>2</td>\n",
       "    </tr>\n",
       "    <tr>\n",
       "      <th>61</th>\n",
       "      <td>1</td>\n",
       "      <td>20.0</td>\n",
       "      <td>176.0</td>\n",
       "      <td>85.0</td>\n",
       "      <td>0</td>\n",
       "      <td>3</td>\n",
       "      <td>3</td>\n",
       "      <td>2</td>\n",
       "    </tr>\n",
       "    <tr>\n",
       "      <th>63</th>\n",
       "      <td>1</td>\n",
       "      <td>22.0</td>\n",
       "      <td>176.0</td>\n",
       "      <td>85.0</td>\n",
       "      <td>0</td>\n",
       "      <td>3</td>\n",
       "      <td>2</td>\n",
       "      <td>2</td>\n",
       "    </tr>\n",
       "    <tr>\n",
       "      <th>64</th>\n",
       "      <td>1</td>\n",
       "      <td>22.0</td>\n",
       "      <td>176.0</td>\n",
       "      <td>85.0</td>\n",
       "      <td>0</td>\n",
       "      <td>3</td>\n",
       "      <td>3</td>\n",
       "      <td>2</td>\n",
       "    </tr>\n",
       "  </tbody>\n",
       "</table>\n",
       "</div>"
      ],
      "text/plain": [
       "    Sex   Age  Height  Weight  Season  Sport  Medal  region\n",
       "40    1  28.0   184.0    85.0       0      1      3       1\n",
       "41    1  28.0   175.0    64.0       1      2      3       1\n",
       "42    1  28.0   175.0    64.0       1      2      1       1\n",
       "44    1  28.0   175.0    64.0       1      2      1       1\n",
       "48    1  28.0   175.0    64.0       1      2      1       1\n",
       "50    1  32.0   175.0    64.0       1      2      3       1\n",
       "60    1  20.0   176.0    85.0       0      3      1       2\n",
       "61    1  20.0   176.0    85.0       0      3      3       2\n",
       "63    1  22.0   176.0    85.0       0      3      2       2\n",
       "64    1  22.0   176.0    85.0       0      3      3       2"
      ]
     },
     "execution_count": 26,
     "metadata": {},
     "output_type": "execute_result"
    }
   ],
   "source": [
    "Data3.head(10)"
   ]
  },
  {
   "cell_type": "code",
   "execution_count": 27,
   "metadata": {},
   "outputs": [
    {
     "name": "stderr",
     "output_type": "stream",
     "text": [
      "c:\\users\\иван\\appdata\\local\\programs\\python\\python37-32\\lib\\site-packages\\ipykernel_launcher.py:4: SettingWithCopyWarning: \n",
      "A value is trying to be set on a copy of a slice from a DataFrame.\n",
      "Try using .loc[row_indexer,col_indexer] = value instead\n",
      "\n",
      "See the caveats in the documentation: http://pandas.pydata.org/pandas-docs/stable/indexing.html#indexing-view-versus-copy\n",
      "  after removing the cwd from sys.path.\n"
     ]
    },
    {
     "data": {
      "text/html": [
       "<div>\n",
       "<style scoped>\n",
       "    .dataframe tbody tr th:only-of-type {\n",
       "        vertical-align: middle;\n",
       "    }\n",
       "\n",
       "    .dataframe tbody tr th {\n",
       "        vertical-align: top;\n",
       "    }\n",
       "\n",
       "    .dataframe thead th {\n",
       "        text-align: right;\n",
       "    }\n",
       "</style>\n",
       "<table border=\"1\" class=\"dataframe\">\n",
       "  <thead>\n",
       "    <tr style=\"text-align: right;\">\n",
       "      <th></th>\n",
       "      <th>Sex</th>\n",
       "      <th>Age</th>\n",
       "      <th>Height</th>\n",
       "      <th>Weight</th>\n",
       "      <th>Season</th>\n",
       "      <th>Sport</th>\n",
       "      <th>Medal</th>\n",
       "      <th>region</th>\n",
       "    </tr>\n",
       "  </thead>\n",
       "  <tbody>\n",
       "    <tr>\n",
       "      <th>40</th>\n",
       "      <td>1</td>\n",
       "      <td>0.283019</td>\n",
       "      <td>0.551724</td>\n",
       "      <td>0.370130</td>\n",
       "      <td>0</td>\n",
       "      <td>1</td>\n",
       "      <td>3</td>\n",
       "      <td>1</td>\n",
       "    </tr>\n",
       "    <tr>\n",
       "      <th>41</th>\n",
       "      <td>1</td>\n",
       "      <td>0.283019</td>\n",
       "      <td>0.448276</td>\n",
       "      <td>0.233766</td>\n",
       "      <td>1</td>\n",
       "      <td>2</td>\n",
       "      <td>3</td>\n",
       "      <td>1</td>\n",
       "    </tr>\n",
       "    <tr>\n",
       "      <th>42</th>\n",
       "      <td>1</td>\n",
       "      <td>0.283019</td>\n",
       "      <td>0.448276</td>\n",
       "      <td>0.233766</td>\n",
       "      <td>1</td>\n",
       "      <td>2</td>\n",
       "      <td>1</td>\n",
       "      <td>1</td>\n",
       "    </tr>\n",
       "    <tr>\n",
       "      <th>44</th>\n",
       "      <td>1</td>\n",
       "      <td>0.283019</td>\n",
       "      <td>0.448276</td>\n",
       "      <td>0.233766</td>\n",
       "      <td>1</td>\n",
       "      <td>2</td>\n",
       "      <td>1</td>\n",
       "      <td>1</td>\n",
       "    </tr>\n",
       "    <tr>\n",
       "      <th>48</th>\n",
       "      <td>1</td>\n",
       "      <td>0.283019</td>\n",
       "      <td>0.448276</td>\n",
       "      <td>0.233766</td>\n",
       "      <td>1</td>\n",
       "      <td>2</td>\n",
       "      <td>1</td>\n",
       "      <td>1</td>\n",
       "    </tr>\n",
       "  </tbody>\n",
       "</table>\n",
       "</div>"
      ],
      "text/plain": [
       "    Sex       Age    Height    Weight  Season  Sport  Medal  region\n",
       "40    1  0.283019  0.551724  0.370130       0      1      3       1\n",
       "41    1  0.283019  0.448276  0.233766       1      2      3       1\n",
       "42    1  0.283019  0.448276  0.233766       1      2      1       1\n",
       "44    1  0.283019  0.448276  0.233766       1      2      1       1\n",
       "48    1  0.283019  0.448276  0.233766       1      2      1       1"
      ]
     },
     "execution_count": 27,
     "metadata": {},
     "output_type": "execute_result"
    }
   ],
   "source": [
    "#Нормализация переменных\n",
    "n = ['Age', 'Height', 'Weight'] \n",
    "for i in n: \n",
    "    Data3[i] = (Data3[i] - min(Data3[i]))/(max(Data3[i]) - min(Data3[i])) \n",
    "Data3.head()"
   ]
  },
  {
   "cell_type": "markdown",
   "metadata": {},
   "source": [
    "Датасет для анализа готов. Будем предсказывать тип медали по всем остальным предикторам. Для этого разделим датасет на тестовую и обучающую выборки и построим следующие модели:\n",
    "+ Decision tree;\n",
    "+ Логистическую регрессию;\n",
    "+ Ансамбли:\n",
    "    + Random Forest;\n",
    "    + Voting;\n",
    "    + Bagging;\n",
    "    + AdaBoosting;\n",
    "    + Stacking."
   ]
  },
  {
   "cell_type": "code",
   "execution_count": 56,
   "metadata": {},
   "outputs": [],
   "source": [
    "X = Data3.iloc[:,1:8].values\n",
    "y = Data3.iloc[:,0].values\n",
    "from sklearn.model_selection import train_test_split\n",
    "X_train, X_test, y_train, y_test = train_test_split(X, y, test_size = 1/3, random_state = 0)"
   ]
  },
  {
   "cell_type": "code",
   "execution_count": 57,
   "metadata": {},
   "outputs": [
    {
     "data": {
      "text/plain": [
       "(0.9996022670776573, 0.8734340823225293)"
      ]
     },
     "execution_count": 57,
     "metadata": {},
     "output_type": "execute_result"
    }
   ],
   "source": [
    "#Дерево\n",
    "from sklearn.tree import DecisionTreeClassifier\n",
    "tree = DecisionTreeClassifier()\n",
    "tree.fit(X_train, y_train)\n",
    "tree.score(X_train, y_train), tree.score(X_test, y_test)"
   ]
  },
  {
   "cell_type": "code",
   "execution_count": 58,
   "metadata": {},
   "outputs": [
    {
     "name": "stderr",
     "output_type": "stream",
     "text": [
      "c:\\users\\иван\\appdata\\local\\programs\\python\\python37-32\\lib\\site-packages\\sklearn\\linear_model\\logistic.py:432: FutureWarning: Default solver will be changed to 'lbfgs' in 0.22. Specify a solver to silence this warning.\n",
      "  FutureWarning)\n"
     ]
    },
    {
     "data": {
      "text/plain": [
       "(0.7746345828775977, 0.7758003579240406)"
      ]
     },
     "execution_count": 58,
     "metadata": {},
     "output_type": "execute_result"
    }
   ],
   "source": [
    "from sklearn.linear_model import LogisticRegression\n",
    "from sklearn.model_selection import cross_val_score\n",
    "\n",
    "# Логистическая регрессия с регуляризацией\n",
    "logreg = LogisticRegression(C = 6)\n",
    "logreg.fit(X_train, y_train)\n",
    "logreg.score(X_train, y_train), logreg.score(X_test, y_test)"
   ]
  },
  {
   "cell_type": "code",
   "execution_count": 59,
   "metadata": {},
   "outputs": [
    {
     "data": {
      "text/plain": [
       "(0.9996022670776573, 0.9105189898588189)"
      ]
     },
     "execution_count": 59,
     "metadata": {},
     "output_type": "execute_result"
    }
   ],
   "source": [
    "#RF\n",
    "\n",
    "from sklearn.ensemble import RandomForestClassifier\n",
    "modelRF = RandomForestClassifier(n_estimators=100, max_features=5)\n",
    "modelRF.fit(X_train, y_train)\n",
    "modelRF.score(X_train, y_train), modelRF.score(X_test, y_test)"
   ]
  },
  {
   "cell_type": "code",
   "execution_count": 60,
   "metadata": {},
   "outputs": [
    {
     "name": "stderr",
     "output_type": "stream",
     "text": [
      "c:\\users\\иван\\appdata\\local\\programs\\python\\python37-32\\lib\\site-packages\\sklearn\\linear_model\\logistic.py:432: FutureWarning: Default solver will be changed to 'lbfgs' in 0.22. Specify a solver to silence this warning.\n",
      "  FutureWarning)\n"
     ]
    },
    {
     "data": {
      "text/plain": [
       "(0.9996022670776573, 0.9024656989461125)"
      ]
     },
     "execution_count": 60,
     "metadata": {},
     "output_type": "execute_result"
    }
   ],
   "source": [
    "#Voting\n",
    "from sklearn.ensemble import VotingClassifier\n",
    "modelVote = VotingClassifier(estimators=[('lr', logreg), ('dt', tree), ('rf', modelRF)], voting='hard')\n",
    "modelVote.fit(X_train,y_train)\n",
    "modelVote.score(X_train,y_train), modelVote.score(X_test,y_test)"
   ]
  },
  {
   "cell_type": "code",
   "execution_count": 63,
   "metadata": {},
   "outputs": [
    {
     "data": {
      "text/plain": [
       "0.9039970646111826"
      ]
     },
     "execution_count": 63,
     "metadata": {},
     "output_type": "execute_result"
    }
   ],
   "source": [
    "#Bagging\n",
    "from sklearn.ensemble import BaggingClassifier\n",
    "from sklearn import model_selection\n",
    "modelBag = BaggingClassifier(base_estimator=tree, n_estimators=100, random_state=5)\n",
    "results = model_selection.cross_val_score(modelBag, X_train, y_train, cv=3)\n",
    "results.mean()# среднее по кросс-валидации"
   ]
  },
  {
   "cell_type": "code",
   "execution_count": 64,
   "metadata": {},
   "outputs": [
    {
     "data": {
      "text/plain": [
       "(0.9996022670776573, 0.8866573871545039)"
      ]
     },
     "execution_count": 64,
     "metadata": {},
     "output_type": "execute_result"
    }
   ],
   "source": [
    "#AdaBoosting\n",
    "\n",
    "from sklearn.ensemble import AdaBoostClassifier\n",
    "modelAB = AdaBoostClassifier(base_estimator=tree, n_estimators=100)\n",
    "modelAB.fit(X_train, y_train)\n",
    "modelAB.score(X_train, y_train), modelAB.score(X_test, y_test)"
   ]
  },
  {
   "cell_type": "code",
   "execution_count": 65,
   "metadata": {},
   "outputs": [
    {
     "name": "stderr",
     "output_type": "stream",
     "text": [
      "c:\\users\\иван\\appdata\\local\\programs\\python\\python37-32\\lib\\site-packages\\sklearn\\linear_model\\logistic.py:432: FutureWarning: Default solver will be changed to 'lbfgs' in 0.22. Specify a solver to silence this warning.\n",
      "  FutureWarning)\n"
     ]
    },
    {
     "data": {
      "text/plain": [
       "(0.9996022670776573, 0.9059455160071584)"
      ]
     },
     "execution_count": 65,
     "metadata": {},
     "output_type": "execute_result"
    }
   ],
   "source": [
    "#Stacking - сделаем \"гибрид\" из всех предыдущих моделей\n",
    "\n",
    "pred1_train = pd.DataFrame(logreg.predict(X_train))\n",
    "pred2_train = pd.DataFrame(tree.predict(X_train))\n",
    "pred3_train = pd.DataFrame(modelRF.predict(X_train))\n",
    "pred4_train = pd.DataFrame(modelAB.predict(X_train))\n",
    "pred4_train = pd.DataFrame(modelVote.predict(X_train))\n",
    "\n",
    "pred1_test = pd.DataFrame(logreg.predict(X_test))\n",
    "pred2_test = pd.DataFrame(tree.predict(X_test))\n",
    "pred3_test = pd.DataFrame(modelRF.predict(X_test))\n",
    "pred4_test = pd.DataFrame(modelAB.predict(X_test))\n",
    "pred5_test = pd.DataFrame(modelVote.predict(X_test))\n",
    "\n",
    "data_train = pd.concat([pred1_train, pred2_train, pred3_train, pred4_train], axis=1)\n",
    "data_test = pd.concat([pred1_test, pred2_test, pred3_test, pred4_test], axis=1)\n",
    "\n",
    "modelSt = LogisticRegression()\n",
    "modelSt.fit(data_train,y_train)\n",
    "modelSt.score(data_train, y_train), modelSt.score(data_test, y_test)"
   ]
  },
  {
   "cell_type": "markdown",
   "metadata": {},
   "source": [
    "Логистическая регрессия показала на тестовой выборке точность предсказания в 77%, а Дерево решений - в 87%, а ансамблевые методы - в 87-91%. Было принято решение использовать Дерево, исходя из следующих соображений:\n",
    "+ модель дает высокую точность прогноза, почти такую же, как и ансамбли;\n",
    "+ модель простая и несет в себе меньшую вычислительную нагрузку в сравнении с ансамлями;\n",
    "+ модель имеент меньший риск переобучения;\n",
    "+ модель проще интерпретировтаь в сравнении с ансамблями."
   ]
  },
  {
   "cell_type": "markdown",
   "metadata": {},
   "source": [
    "# 4. Интерпретация полученных результатов"
   ]
  },
  {
   "cell_type": "markdown",
   "metadata": {},
   "source": [
    "Посмотрим на \"веса\" предикторов в модели:"
   ]
  },
  {
   "cell_type": "code",
   "execution_count": 66,
   "metadata": {},
   "outputs": [
    {
     "data": {
      "text/html": [
       "<div>\n",
       "<style scoped>\n",
       "    .dataframe tbody tr th:only-of-type {\n",
       "        vertical-align: middle;\n",
       "    }\n",
       "\n",
       "    .dataframe tbody tr th {\n",
       "        vertical-align: top;\n",
       "    }\n",
       "\n",
       "    .dataframe thead th {\n",
       "        text-align: right;\n",
       "    }\n",
       "</style>\n",
       "<table border=\"1\" class=\"dataframe\">\n",
       "  <thead>\n",
       "    <tr style=\"text-align: right;\">\n",
       "      <th></th>\n",
       "      <th>Sex</th>\n",
       "      <th>Age</th>\n",
       "      <th>Height</th>\n",
       "      <th>Weight</th>\n",
       "      <th>Season</th>\n",
       "      <th>Sport</th>\n",
       "      <th>Medal</th>\n",
       "      <th>region</th>\n",
       "    </tr>\n",
       "  </thead>\n",
       "  <tbody>\n",
       "  </tbody>\n",
       "</table>\n",
       "</div>"
      ],
      "text/plain": [
       "Empty DataFrame\n",
       "Columns: [Sex, Age, Height, Weight, Season, Sport, Medal, region]\n",
       "Index: []"
      ]
     },
     "execution_count": 66,
     "metadata": {},
     "output_type": "execute_result"
    }
   ],
   "source": [
    "Data3.head(0)"
   ]
  },
  {
   "cell_type": "code",
   "execution_count": 67,
   "metadata": {},
   "outputs": [
    {
     "data": {
      "text/plain": [
       "array([0.07906397, 0.10252102, 0.39813801, 0.01660899, 0.24658361,\n",
       "       0.0265436 , 0.13054081])"
      ]
     },
     "execution_count": 67,
     "metadata": {},
     "output_type": "execute_result"
    }
   ],
   "source": [
    "tree.feature_importances_"
   ]
  },
  {
   "cell_type": "markdown",
   "metadata": {},
   "source": [
    "Мы видим, что наиболее статистически значимые переменные - Weight и Sport. Про первое можно было догадаться и так, а вот спорт стал небольшим \"открытием\". Также интересно, что значимость страны больше значимости роста спортсмена в данной модели.\n",
    "\n",
    "Визуализируем зависимость пола от веса и роста по модели логистической регрессии. Для этого урежем даннные, чтобы машина не выдала ошибку \"MemoryError\":"
   ]
  },
  {
   "cell_type": "code",
   "execution_count": 74,
   "metadata": {},
   "outputs": [
    {
     "name": "stderr",
     "output_type": "stream",
     "text": [
      "c:\\users\\иван\\appdata\\local\\programs\\python\\python37-32\\lib\\site-packages\\sklearn\\linear_model\\logistic.py:432: FutureWarning: Default solver will be changed to 'lbfgs' in 0.22. Specify a solver to silence this warning.\n",
      "  FutureWarning)\n"
     ]
    },
    {
     "data": {
      "text/plain": [
       "(0.7896789678967897, 0.7678464307138573)"
      ]
     },
     "execution_count": 74,
     "metadata": {},
     "output_type": "execute_result"
    }
   ],
   "source": [
    "Data4 = Data3[:5000]\n",
    "\n",
    "X = Data4.iloc[:,1:8].values\n",
    "y = Data4.iloc[:,0].values\n",
    "X_train, X_test, y_train, y_test = train_test_split(X, y, test_size = 1/3, random_state = 0)\n",
    "\n",
    "logreg1 = LogisticRegression(C = 6)\n",
    "logreg1.fit(X_train, y_train)\n",
    "logreg1.score(X_train, y_train), logreg1.score(X_test, y_test)"
   ]
  },
  {
   "cell_type": "code",
   "execution_count": 75,
   "metadata": {},
   "outputs": [
    {
     "data": {
      "image/png": "[encoded data removed]",
      "text/plain": [
       "<Figure size 432x288 with 2 Axes>"
      ]
     },
     "metadata": {
      "needs_background": "light"
     },
     "output_type": "display_data"
    }
   ],
   "source": [
    "names = ['Age', 'Height', 'Weight', 'Season', 'Sport', 'Medal', 'region']\n",
    "\n",
    "from pycebox.ice import ice, ice_plot\n",
    "X_train_df = pd.DataFrame(X_train, columns=names)\n",
    "def predict_new(X):\n",
    "    return logreg1.predict_proba(X)[:,1]\n",
    "\n",
    "Duration = ice(data=X_train_df, column='Weight', \n",
    "                   predict=predict_new)\n",
    "\n",
    "ice_plot(Duration, linewidth=0.5, color_by='Height', cmap=plt.get_cmap('OrRd'))\n",
    "\n",
    "pr_vals = X_train_df['Height'].values\n",
    "sm = plt.cm.ScalarMappable(cmap=plt.get_cmap('OrRd'), \n",
    "                           norm=plt.Normalize(vmin=pr_vals.min(), \n",
    "                                              vmax=pr_vals.max()))\n",
    "\n",
    "sm._A = []\n",
    "plt.colorbar(sm, label='Height')\n",
    "plt.ylabel('Sex')\n",
    "plt.xlabel('Weight');"
   ]
  },
  {
   "cell_type": "markdown",
   "metadata": {},
   "source": [
    "Из рисунка видно, что чем больше вес, тем больше пол стремится к единице, т.е. - к мужскому полу. Также чем больше значение роста, тем ближе график стремится к мужскому полу."
   ]
  },
  {
   "cell_type": "markdown",
   "metadata": {},
   "source": [
    "# 5. Выводы"
   ]
  },
  {
   "cell_type": "markdown",
   "metadata": {},
   "source": [
    "В ходе проделанной работы были сделаны следующие выводы:\n",
    "1. Exploratory Analysis:\n",
    "    + За 120 лет было проведено 29 Летних и 21 Зимних Олимпийских игр;\n",
    "    + Больше всех медалей за это время выиграли пресдавители США;\n",
    "    + По Зимним Олимпийским играм наша страна находится на 1м месте;\n",
    "    + Самые высокие спортсмены - баскетболисты и волейболисты. Самые низкие - гимнасты и дайверы;\n",
    "    + Самые тяжелоые спортсмены - участники перетягования канатов, бейсболисты и бобслеисты. Самые легкие - гимнасты.\n",
    "    + Топ 3 дисциплины нашей страны - атлетика, гимнастика и плавание.\n",
    "    \n",
    "\n",
    "\n",
    "2. Machine Learning:\n",
    "    + Самая успешная по точности модель - Random Forest (91%);\n",
    "    + Наиболее статистически значимые предиктор в Дереве решений - вес, вид спорта, страна и рост;\n",
    "    + Чем больше рост и вес спортсмена, тем больше вероятность, что он мужского пола ==> модель адекватная :)\n",
    "    "
   ]
  }
 ],
 "metadata": {
  "kernelspec": {
   "display_name": "Python 3",
   "language": "python",
   "name": "python3"
  },
  "language_info": {
   "codemirror_mode": {
    "name": "ipython",
    "version": 3
   },
   "file_extension": ".py",
   "mimetype": "text/x-python",
   "name": "python",
   "nbconvert_exporter": "python",
   "pygments_lexer": "ipython3",
   "version": "3.7.0"
  }
 },
 "nbformat": 4,
 "nbformat_minor": 2
}
